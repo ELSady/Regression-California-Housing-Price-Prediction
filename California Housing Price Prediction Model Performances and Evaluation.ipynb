{
 "cells": [
  {
   "cell_type": "markdown",
   "id": "1940a0af",
   "metadata": {},
   "source": [
    "## Import Libraries"
   ]
  },
  {
   "cell_type": "code",
   "execution_count": 1,
   "id": "5fcbdd69",
   "metadata": {},
   "outputs": [],
   "source": [
    "import pandas as pd\n",
    "import seaborn as sns\n",
    "import numpy as np\n",
    "import matplotlib.pyplot as plt\n",
    "import squarify \n",
    "%matplotlib inline"
   ]
  },
  {
   "cell_type": "markdown",
   "id": "a46f5c52",
   "metadata": {},
   "source": [
    "## Load Dataset\n",
    "### California Housing Dataset"
   ]
  },
  {
   "cell_type": "code",
   "execution_count": 60,
   "id": "ffda178d",
   "metadata": {},
   "outputs": [
    {
     "data": {
      "text/html": [
       "<div>\n",
       "<style scoped>\n",
       "    .dataframe tbody tr th:only-of-type {\n",
       "        vertical-align: middle;\n",
       "    }\n",
       "\n",
       "    .dataframe tbody tr th {\n",
       "        vertical-align: top;\n",
       "    }\n",
       "\n",
       "    .dataframe thead th {\n",
       "        text-align: right;\n",
       "    }\n",
       "</style>\n",
       "<table border=\"1\" class=\"dataframe\">\n",
       "  <thead>\n",
       "    <tr style=\"text-align: right;\">\n",
       "      <th></th>\n",
       "      <th>longitude</th>\n",
       "      <th>latitude</th>\n",
       "      <th>housing_median_age</th>\n",
       "      <th>total_rooms</th>\n",
       "      <th>total_bedrooms</th>\n",
       "      <th>population</th>\n",
       "      <th>households</th>\n",
       "      <th>median_income</th>\n",
       "      <th>median_house_value</th>\n",
       "      <th>ocean_proximity</th>\n",
       "    </tr>\n",
       "  </thead>\n",
       "  <tbody>\n",
       "    <tr>\n",
       "      <th>0</th>\n",
       "      <td>-122.23</td>\n",
       "      <td>37.88</td>\n",
       "      <td>41.0</td>\n",
       "      <td>880.0</td>\n",
       "      <td>129.0</td>\n",
       "      <td>322.0</td>\n",
       "      <td>126.0</td>\n",
       "      <td>8.3252</td>\n",
       "      <td>452600.0</td>\n",
       "      <td>NEAR BAY</td>\n",
       "    </tr>\n",
       "    <tr>\n",
       "      <th>1</th>\n",
       "      <td>-122.22</td>\n",
       "      <td>37.86</td>\n",
       "      <td>21.0</td>\n",
       "      <td>7099.0</td>\n",
       "      <td>1106.0</td>\n",
       "      <td>2401.0</td>\n",
       "      <td>1138.0</td>\n",
       "      <td>8.3014</td>\n",
       "      <td>358500.0</td>\n",
       "      <td>NEAR BAY</td>\n",
       "    </tr>\n",
       "    <tr>\n",
       "      <th>2</th>\n",
       "      <td>-122.24</td>\n",
       "      <td>37.85</td>\n",
       "      <td>52.0</td>\n",
       "      <td>1467.0</td>\n",
       "      <td>190.0</td>\n",
       "      <td>496.0</td>\n",
       "      <td>177.0</td>\n",
       "      <td>7.2574</td>\n",
       "      <td>352100.0</td>\n",
       "      <td>NEAR BAY</td>\n",
       "    </tr>\n",
       "    <tr>\n",
       "      <th>3</th>\n",
       "      <td>-122.25</td>\n",
       "      <td>37.85</td>\n",
       "      <td>52.0</td>\n",
       "      <td>1274.0</td>\n",
       "      <td>235.0</td>\n",
       "      <td>558.0</td>\n",
       "      <td>219.0</td>\n",
       "      <td>5.6431</td>\n",
       "      <td>341300.0</td>\n",
       "      <td>NEAR BAY</td>\n",
       "    </tr>\n",
       "    <tr>\n",
       "      <th>4</th>\n",
       "      <td>-122.25</td>\n",
       "      <td>37.85</td>\n",
       "      <td>52.0</td>\n",
       "      <td>1627.0</td>\n",
       "      <td>280.0</td>\n",
       "      <td>565.0</td>\n",
       "      <td>259.0</td>\n",
       "      <td>3.8462</td>\n",
       "      <td>342200.0</td>\n",
       "      <td>NEAR BAY</td>\n",
       "    </tr>\n",
       "    <tr>\n",
       "      <th>5</th>\n",
       "      <td>-122.25</td>\n",
       "      <td>37.85</td>\n",
       "      <td>52.0</td>\n",
       "      <td>919.0</td>\n",
       "      <td>213.0</td>\n",
       "      <td>413.0</td>\n",
       "      <td>193.0</td>\n",
       "      <td>4.0368</td>\n",
       "      <td>269700.0</td>\n",
       "      <td>NEAR BAY</td>\n",
       "    </tr>\n",
       "    <tr>\n",
       "      <th>6</th>\n",
       "      <td>-122.25</td>\n",
       "      <td>37.84</td>\n",
       "      <td>52.0</td>\n",
       "      <td>2535.0</td>\n",
       "      <td>489.0</td>\n",
       "      <td>1094.0</td>\n",
       "      <td>514.0</td>\n",
       "      <td>3.6591</td>\n",
       "      <td>299200.0</td>\n",
       "      <td>NEAR BAY</td>\n",
       "    </tr>\n",
       "    <tr>\n",
       "      <th>7</th>\n",
       "      <td>-122.25</td>\n",
       "      <td>37.84</td>\n",
       "      <td>52.0</td>\n",
       "      <td>3104.0</td>\n",
       "      <td>687.0</td>\n",
       "      <td>1157.0</td>\n",
       "      <td>647.0</td>\n",
       "      <td>3.1200</td>\n",
       "      <td>241400.0</td>\n",
       "      <td>NEAR BAY</td>\n",
       "    </tr>\n",
       "    <tr>\n",
       "      <th>8</th>\n",
       "      <td>-122.26</td>\n",
       "      <td>37.84</td>\n",
       "      <td>42.0</td>\n",
       "      <td>2555.0</td>\n",
       "      <td>665.0</td>\n",
       "      <td>1206.0</td>\n",
       "      <td>595.0</td>\n",
       "      <td>2.0804</td>\n",
       "      <td>226700.0</td>\n",
       "      <td>NEAR BAY</td>\n",
       "    </tr>\n",
       "    <tr>\n",
       "      <th>9</th>\n",
       "      <td>-122.25</td>\n",
       "      <td>37.84</td>\n",
       "      <td>52.0</td>\n",
       "      <td>3549.0</td>\n",
       "      <td>707.0</td>\n",
       "      <td>1551.0</td>\n",
       "      <td>714.0</td>\n",
       "      <td>3.6912</td>\n",
       "      <td>261100.0</td>\n",
       "      <td>NEAR BAY</td>\n",
       "    </tr>\n",
       "  </tbody>\n",
       "</table>\n",
       "</div>"
      ],
      "text/plain": [
       "   longitude  latitude  housing_median_age  total_rooms  total_bedrooms  \\\n",
       "0    -122.23     37.88                41.0        880.0           129.0   \n",
       "1    -122.22     37.86                21.0       7099.0          1106.0   \n",
       "2    -122.24     37.85                52.0       1467.0           190.0   \n",
       "3    -122.25     37.85                52.0       1274.0           235.0   \n",
       "4    -122.25     37.85                52.0       1627.0           280.0   \n",
       "5    -122.25     37.85                52.0        919.0           213.0   \n",
       "6    -122.25     37.84                52.0       2535.0           489.0   \n",
       "7    -122.25     37.84                52.0       3104.0           687.0   \n",
       "8    -122.26     37.84                42.0       2555.0           665.0   \n",
       "9    -122.25     37.84                52.0       3549.0           707.0   \n",
       "\n",
       "   population  households  median_income  median_house_value ocean_proximity  \n",
       "0       322.0       126.0         8.3252            452600.0        NEAR BAY  \n",
       "1      2401.0      1138.0         8.3014            358500.0        NEAR BAY  \n",
       "2       496.0       177.0         7.2574            352100.0        NEAR BAY  \n",
       "3       558.0       219.0         5.6431            341300.0        NEAR BAY  \n",
       "4       565.0       259.0         3.8462            342200.0        NEAR BAY  \n",
       "5       413.0       193.0         4.0368            269700.0        NEAR BAY  \n",
       "6      1094.0       514.0         3.6591            299200.0        NEAR BAY  \n",
       "7      1157.0       647.0         3.1200            241400.0        NEAR BAY  \n",
       "8      1206.0       595.0         2.0804            226700.0        NEAR BAY  \n",
       "9      1551.0       714.0         3.6912            261100.0        NEAR BAY  "
      ]
     },
     "execution_count": 60,
     "metadata": {},
     "output_type": "execute_result"
    }
   ],
   "source": [
    "California = pd.read_csv('California Housing.csv')\n",
    "pd.set_option('display.max_columns', None)\n",
    "California.head(10)"
   ]
  },
  {
   "cell_type": "markdown",
   "id": "8e4dad9e",
   "metadata": {},
   "source": [
    "## Dataset Profiling"
   ]
  },
  {
   "cell_type": "code",
   "execution_count": 61,
   "id": "6470182f",
   "metadata": {},
   "outputs": [
    {
     "name": "stdout",
     "output_type": "stream",
     "text": [
      "Dataset dimension : 2\n",
      "Dataset shape : (20640, 10)\n",
      "Dataset size : 206400\n"
     ]
    }
   ],
   "source": [
    "print(\"Dataset dimension :\", California.ndim)\n",
    "print(\"Dataset shape :\", California.shape)\n",
    "print(\"Dataset size :\", California.size)"
   ]
  },
  {
   "cell_type": "code",
   "execution_count": 62,
   "id": "46138e56",
   "metadata": {},
   "outputs": [
    {
     "data": {
      "text/html": [
       "<div>\n",
       "<style scoped>\n",
       "    .dataframe tbody tr th:only-of-type {\n",
       "        vertical-align: middle;\n",
       "    }\n",
       "\n",
       "    .dataframe tbody tr th {\n",
       "        vertical-align: top;\n",
       "    }\n",
       "\n",
       "    .dataframe thead th {\n",
       "        text-align: right;\n",
       "    }\n",
       "</style>\n",
       "<table border=\"1\" class=\"dataframe\">\n",
       "  <thead>\n",
       "    <tr style=\"text-align: right;\">\n",
       "      <th></th>\n",
       "      <th>Features</th>\n",
       "      <th>Data Type</th>\n",
       "    </tr>\n",
       "  </thead>\n",
       "  <tbody>\n",
       "    <tr>\n",
       "      <th>0</th>\n",
       "      <td>longitude</td>\n",
       "      <td>float64</td>\n",
       "    </tr>\n",
       "    <tr>\n",
       "      <th>1</th>\n",
       "      <td>latitude</td>\n",
       "      <td>float64</td>\n",
       "    </tr>\n",
       "    <tr>\n",
       "      <th>2</th>\n",
       "      <td>housing_median_age</td>\n",
       "      <td>float64</td>\n",
       "    </tr>\n",
       "    <tr>\n",
       "      <th>3</th>\n",
       "      <td>total_rooms</td>\n",
       "      <td>float64</td>\n",
       "    </tr>\n",
       "    <tr>\n",
       "      <th>4</th>\n",
       "      <td>total_bedrooms</td>\n",
       "      <td>float64</td>\n",
       "    </tr>\n",
       "    <tr>\n",
       "      <th>5</th>\n",
       "      <td>population</td>\n",
       "      <td>float64</td>\n",
       "    </tr>\n",
       "    <tr>\n",
       "      <th>6</th>\n",
       "      <td>households</td>\n",
       "      <td>float64</td>\n",
       "    </tr>\n",
       "    <tr>\n",
       "      <th>7</th>\n",
       "      <td>median_income</td>\n",
       "      <td>float64</td>\n",
       "    </tr>\n",
       "    <tr>\n",
       "      <th>8</th>\n",
       "      <td>median_house_value</td>\n",
       "      <td>float64</td>\n",
       "    </tr>\n",
       "    <tr>\n",
       "      <th>9</th>\n",
       "      <td>ocean_proximity</td>\n",
       "      <td>object</td>\n",
       "    </tr>\n",
       "  </tbody>\n",
       "</table>\n",
       "</div>"
      ],
      "text/plain": [
       "             Features Data Type\n",
       "0           longitude   float64\n",
       "1            latitude   float64\n",
       "2  housing_median_age   float64\n",
       "3         total_rooms   float64\n",
       "4      total_bedrooms   float64\n",
       "5          population   float64\n",
       "6          households   float64\n",
       "7       median_income   float64\n",
       "8  median_house_value   float64\n",
       "9     ocean_proximity    object"
      ]
     },
     "execution_count": 62,
     "metadata": {},
     "output_type": "execute_result"
    }
   ],
   "source": [
    "California_types = California.dtypes.reset_index()\n",
    "California_types.columns = ['Features','Data Type']\n",
    "California_types"
   ]
  },
  {
   "cell_type": "markdown",
   "id": "9d0370fb",
   "metadata": {},
   "source": [
    "## Dataset Missing and Blank Values Check"
   ]
  },
  {
   "cell_type": "code",
   "execution_count": 5,
   "id": "5d5da545",
   "metadata": {},
   "outputs": [
    {
     "data": {
      "text/html": [
       "<div>\n",
       "<style scoped>\n",
       "    .dataframe tbody tr th:only-of-type {\n",
       "        vertical-align: middle;\n",
       "    }\n",
       "\n",
       "    .dataframe tbody tr th {\n",
       "        vertical-align: top;\n",
       "    }\n",
       "\n",
       "    .dataframe thead th {\n",
       "        text-align: right;\n",
       "    }\n",
       "</style>\n",
       "<table border=\"1\" class=\"dataframe\">\n",
       "  <thead>\n",
       "    <tr style=\"text-align: right;\">\n",
       "      <th></th>\n",
       "      <th>Features</th>\n",
       "      <th>Missing Values</th>\n",
       "      <th>Blank Values</th>\n",
       "      <th>Filling Factor</th>\n",
       "    </tr>\n",
       "  </thead>\n",
       "  <tbody>\n",
       "    <tr>\n",
       "      <th>4</th>\n",
       "      <td>total_bedrooms</td>\n",
       "      <td>207</td>\n",
       "      <td>0</td>\n",
       "      <td>99.498547</td>\n",
       "    </tr>\n",
       "    <tr>\n",
       "      <th>0</th>\n",
       "      <td>longitude</td>\n",
       "      <td>0</td>\n",
       "      <td>0</td>\n",
       "      <td>100.000000</td>\n",
       "    </tr>\n",
       "    <tr>\n",
       "      <th>1</th>\n",
       "      <td>latitude</td>\n",
       "      <td>0</td>\n",
       "      <td>0</td>\n",
       "      <td>100.000000</td>\n",
       "    </tr>\n",
       "    <tr>\n",
       "      <th>2</th>\n",
       "      <td>housing_median_age</td>\n",
       "      <td>0</td>\n",
       "      <td>0</td>\n",
       "      <td>100.000000</td>\n",
       "    </tr>\n",
       "    <tr>\n",
       "      <th>3</th>\n",
       "      <td>total_rooms</td>\n",
       "      <td>0</td>\n",
       "      <td>0</td>\n",
       "      <td>100.000000</td>\n",
       "    </tr>\n",
       "    <tr>\n",
       "      <th>5</th>\n",
       "      <td>population</td>\n",
       "      <td>0</td>\n",
       "      <td>0</td>\n",
       "      <td>100.000000</td>\n",
       "    </tr>\n",
       "    <tr>\n",
       "      <th>6</th>\n",
       "      <td>households</td>\n",
       "      <td>0</td>\n",
       "      <td>0</td>\n",
       "      <td>100.000000</td>\n",
       "    </tr>\n",
       "    <tr>\n",
       "      <th>7</th>\n",
       "      <td>median_income</td>\n",
       "      <td>0</td>\n",
       "      <td>0</td>\n",
       "      <td>100.000000</td>\n",
       "    </tr>\n",
       "    <tr>\n",
       "      <th>8</th>\n",
       "      <td>median_house_value</td>\n",
       "      <td>0</td>\n",
       "      <td>0</td>\n",
       "      <td>100.000000</td>\n",
       "    </tr>\n",
       "    <tr>\n",
       "      <th>9</th>\n",
       "      <td>ocean_proximity</td>\n",
       "      <td>0</td>\n",
       "      <td>0</td>\n",
       "      <td>100.000000</td>\n",
       "    </tr>\n",
       "  </tbody>\n",
       "</table>\n",
       "</div>"
      ],
      "text/plain": [
       "             Features  Missing Values  Blank Values  Filling Factor\n",
       "4      total_bedrooms             207             0       99.498547\n",
       "0           longitude               0             0      100.000000\n",
       "1            latitude               0             0      100.000000\n",
       "2  housing_median_age               0             0      100.000000\n",
       "3         total_rooms               0             0      100.000000\n",
       "5          population               0             0      100.000000\n",
       "6          households               0             0      100.000000\n",
       "7       median_income               0             0      100.000000\n",
       "8  median_house_value               0             0      100.000000\n",
       "9     ocean_proximity               0             0      100.000000"
      ]
     },
     "execution_count": 5,
     "metadata": {},
     "output_type": "execute_result"
    }
   ],
   "source": [
    "missing_data = California.isnull().sum().reset_index()\n",
    "missing_data.columns = ['Features','Missing Values']\n",
    "blank_data = California.apply(lambda x : x == ' ').sum().reset_index()\n",
    "blank_data.columns = ['Features','Blank Values']\n",
    "merged_data = pd.merge(missing_data, blank_data, on=['Features'])\n",
    "merged_data['Filling Factor'] = (California.shape[0]-missing_data['Missing Values'] + California.shape[0]-blank_data['Blank Values'])/California.shape[0]*50\n",
    "merged_data.sort_values(by='Filling Factor',ascending=True)"
   ]
  },
  {
   "cell_type": "markdown",
   "id": "5fc2531d",
   "metadata": {},
   "source": [
    "### Data Cleaning : Replacing Missing Values with Median"
   ]
  },
  {
   "cell_type": "code",
   "execution_count": 6,
   "id": "fa3384d2",
   "metadata": {
    "scrolled": true
   },
   "outputs": [
    {
     "data": {
      "text/html": [
       "<div>\n",
       "<style scoped>\n",
       "    .dataframe tbody tr th:only-of-type {\n",
       "        vertical-align: middle;\n",
       "    }\n",
       "\n",
       "    .dataframe tbody tr th {\n",
       "        vertical-align: top;\n",
       "    }\n",
       "\n",
       "    .dataframe thead th {\n",
       "        text-align: right;\n",
       "    }\n",
       "</style>\n",
       "<table border=\"1\" class=\"dataframe\">\n",
       "  <thead>\n",
       "    <tr style=\"text-align: right;\">\n",
       "      <th></th>\n",
       "      <th>Features</th>\n",
       "      <th>Missing Values</th>\n",
       "      <th>Filling Factor</th>\n",
       "    </tr>\n",
       "  </thead>\n",
       "  <tbody>\n",
       "    <tr>\n",
       "      <th>0</th>\n",
       "      <td>longitude</td>\n",
       "      <td>0</td>\n",
       "      <td>100.0</td>\n",
       "    </tr>\n",
       "    <tr>\n",
       "      <th>1</th>\n",
       "      <td>latitude</td>\n",
       "      <td>0</td>\n",
       "      <td>100.0</td>\n",
       "    </tr>\n",
       "    <tr>\n",
       "      <th>2</th>\n",
       "      <td>housing_median_age</td>\n",
       "      <td>0</td>\n",
       "      <td>100.0</td>\n",
       "    </tr>\n",
       "    <tr>\n",
       "      <th>3</th>\n",
       "      <td>total_rooms</td>\n",
       "      <td>0</td>\n",
       "      <td>100.0</td>\n",
       "    </tr>\n",
       "    <tr>\n",
       "      <th>4</th>\n",
       "      <td>total_bedrooms</td>\n",
       "      <td>0</td>\n",
       "      <td>100.0</td>\n",
       "    </tr>\n",
       "    <tr>\n",
       "      <th>5</th>\n",
       "      <td>population</td>\n",
       "      <td>0</td>\n",
       "      <td>100.0</td>\n",
       "    </tr>\n",
       "    <tr>\n",
       "      <th>6</th>\n",
       "      <td>households</td>\n",
       "      <td>0</td>\n",
       "      <td>100.0</td>\n",
       "    </tr>\n",
       "    <tr>\n",
       "      <th>7</th>\n",
       "      <td>median_income</td>\n",
       "      <td>0</td>\n",
       "      <td>100.0</td>\n",
       "    </tr>\n",
       "    <tr>\n",
       "      <th>8</th>\n",
       "      <td>median_house_value</td>\n",
       "      <td>0</td>\n",
       "      <td>100.0</td>\n",
       "    </tr>\n",
       "    <tr>\n",
       "      <th>9</th>\n",
       "      <td>ocean_proximity</td>\n",
       "      <td>0</td>\n",
       "      <td>100.0</td>\n",
       "    </tr>\n",
       "  </tbody>\n",
       "</table>\n",
       "</div>"
      ],
      "text/plain": [
       "             Features  Missing Values  Filling Factor\n",
       "0           longitude               0           100.0\n",
       "1            latitude               0           100.0\n",
       "2  housing_median_age               0           100.0\n",
       "3         total_rooms               0           100.0\n",
       "4      total_bedrooms               0           100.0\n",
       "5          population               0           100.0\n",
       "6          households               0           100.0\n",
       "7       median_income               0           100.0\n",
       "8  median_house_value               0           100.0\n",
       "9     ocean_proximity               0           100.0"
      ]
     },
     "execution_count": 6,
     "metadata": {},
     "output_type": "execute_result"
    }
   ],
   "source": [
    "median_rooms = California['total_bedrooms'].median()\n",
    "California['total_bedrooms'] = California['total_bedrooms'].fillna(value=median_rooms)\n",
    "fill_data = California.isna().sum().reset_index()\n",
    "fill_data.columns = ['Features','Missing Values']\n",
    "fill_data['Filling Factor'] = (California.shape[0]-fill_data['Missing Values'])/California.shape[0]*100\n",
    "fill_data"
   ]
  },
  {
   "cell_type": "markdown",
   "id": "ea5857c1",
   "metadata": {},
   "source": [
    "## Take a Look at Basic Data Structure"
   ]
  },
  {
   "cell_type": "code",
   "execution_count": 7,
   "id": "f18fd97e",
   "metadata": {},
   "outputs": [
    {
     "data": {
      "text/html": [
       "<div>\n",
       "<style scoped>\n",
       "    .dataframe tbody tr th:only-of-type {\n",
       "        vertical-align: middle;\n",
       "    }\n",
       "\n",
       "    .dataframe tbody tr th {\n",
       "        vertical-align: top;\n",
       "    }\n",
       "\n",
       "    .dataframe thead th {\n",
       "        text-align: right;\n",
       "    }\n",
       "</style>\n",
       "<table border=\"1\" class=\"dataframe\">\n",
       "  <thead>\n",
       "    <tr style=\"text-align: right;\">\n",
       "      <th></th>\n",
       "      <th>longitude</th>\n",
       "      <th>latitude</th>\n",
       "      <th>housing_median_age</th>\n",
       "      <th>total_rooms</th>\n",
       "      <th>total_bedrooms</th>\n",
       "      <th>population</th>\n",
       "      <th>households</th>\n",
       "      <th>median_income</th>\n",
       "      <th>median_house_value</th>\n",
       "    </tr>\n",
       "  </thead>\n",
       "  <tbody>\n",
       "    <tr>\n",
       "      <th>count</th>\n",
       "      <td>20640.000000</td>\n",
       "      <td>20640.000000</td>\n",
       "      <td>20640.000000</td>\n",
       "      <td>20640.000000</td>\n",
       "      <td>20640.000000</td>\n",
       "      <td>20640.000000</td>\n",
       "      <td>20640.000000</td>\n",
       "      <td>20640.000000</td>\n",
       "      <td>20640.000000</td>\n",
       "    </tr>\n",
       "    <tr>\n",
       "      <th>mean</th>\n",
       "      <td>-119.569704</td>\n",
       "      <td>35.631861</td>\n",
       "      <td>28.639486</td>\n",
       "      <td>2635.763081</td>\n",
       "      <td>536.838857</td>\n",
       "      <td>1425.476744</td>\n",
       "      <td>499.539680</td>\n",
       "      <td>3.870671</td>\n",
       "      <td>206855.816909</td>\n",
       "    </tr>\n",
       "    <tr>\n",
       "      <th>std</th>\n",
       "      <td>2.003532</td>\n",
       "      <td>2.135952</td>\n",
       "      <td>12.585558</td>\n",
       "      <td>2181.615252</td>\n",
       "      <td>419.391878</td>\n",
       "      <td>1132.462122</td>\n",
       "      <td>382.329753</td>\n",
       "      <td>1.899822</td>\n",
       "      <td>115395.615874</td>\n",
       "    </tr>\n",
       "    <tr>\n",
       "      <th>min</th>\n",
       "      <td>-124.350000</td>\n",
       "      <td>32.540000</td>\n",
       "      <td>1.000000</td>\n",
       "      <td>2.000000</td>\n",
       "      <td>1.000000</td>\n",
       "      <td>3.000000</td>\n",
       "      <td>1.000000</td>\n",
       "      <td>0.499900</td>\n",
       "      <td>14999.000000</td>\n",
       "    </tr>\n",
       "    <tr>\n",
       "      <th>25%</th>\n",
       "      <td>-121.800000</td>\n",
       "      <td>33.930000</td>\n",
       "      <td>18.000000</td>\n",
       "      <td>1447.750000</td>\n",
       "      <td>297.000000</td>\n",
       "      <td>787.000000</td>\n",
       "      <td>280.000000</td>\n",
       "      <td>2.563400</td>\n",
       "      <td>119600.000000</td>\n",
       "    </tr>\n",
       "    <tr>\n",
       "      <th>50%</th>\n",
       "      <td>-118.490000</td>\n",
       "      <td>34.260000</td>\n",
       "      <td>29.000000</td>\n",
       "      <td>2127.000000</td>\n",
       "      <td>435.000000</td>\n",
       "      <td>1166.000000</td>\n",
       "      <td>409.000000</td>\n",
       "      <td>3.534800</td>\n",
       "      <td>179700.000000</td>\n",
       "    </tr>\n",
       "    <tr>\n",
       "      <th>75%</th>\n",
       "      <td>-118.010000</td>\n",
       "      <td>37.710000</td>\n",
       "      <td>37.000000</td>\n",
       "      <td>3148.000000</td>\n",
       "      <td>643.250000</td>\n",
       "      <td>1725.000000</td>\n",
       "      <td>605.000000</td>\n",
       "      <td>4.743250</td>\n",
       "      <td>264725.000000</td>\n",
       "    </tr>\n",
       "    <tr>\n",
       "      <th>max</th>\n",
       "      <td>-114.310000</td>\n",
       "      <td>41.950000</td>\n",
       "      <td>52.000000</td>\n",
       "      <td>39320.000000</td>\n",
       "      <td>6445.000000</td>\n",
       "      <td>35682.000000</td>\n",
       "      <td>6082.000000</td>\n",
       "      <td>15.000100</td>\n",
       "      <td>500001.000000</td>\n",
       "    </tr>\n",
       "  </tbody>\n",
       "</table>\n",
       "</div>"
      ],
      "text/plain": [
       "          longitude      latitude  housing_median_age   total_rooms  \\\n",
       "count  20640.000000  20640.000000        20640.000000  20640.000000   \n",
       "mean    -119.569704     35.631861           28.639486   2635.763081   \n",
       "std        2.003532      2.135952           12.585558   2181.615252   \n",
       "min     -124.350000     32.540000            1.000000      2.000000   \n",
       "25%     -121.800000     33.930000           18.000000   1447.750000   \n",
       "50%     -118.490000     34.260000           29.000000   2127.000000   \n",
       "75%     -118.010000     37.710000           37.000000   3148.000000   \n",
       "max     -114.310000     41.950000           52.000000  39320.000000   \n",
       "\n",
       "       total_bedrooms    population    households  median_income  \\\n",
       "count    20640.000000  20640.000000  20640.000000   20640.000000   \n",
       "mean       536.838857   1425.476744    499.539680       3.870671   \n",
       "std        419.391878   1132.462122    382.329753       1.899822   \n",
       "min          1.000000      3.000000      1.000000       0.499900   \n",
       "25%        297.000000    787.000000    280.000000       2.563400   \n",
       "50%        435.000000   1166.000000    409.000000       3.534800   \n",
       "75%        643.250000   1725.000000    605.000000       4.743250   \n",
       "max       6445.000000  35682.000000   6082.000000      15.000100   \n",
       "\n",
       "       median_house_value  \n",
       "count        20640.000000  \n",
       "mean        206855.816909  \n",
       "std         115395.615874  \n",
       "min          14999.000000  \n",
       "25%         119600.000000  \n",
       "50%         179700.000000  \n",
       "75%         264725.000000  \n",
       "max         500001.000000  "
      ]
     },
     "execution_count": 7,
     "metadata": {},
     "output_type": "execute_result"
    }
   ],
   "source": [
    "California.describe()"
   ]
  },
  {
   "cell_type": "code",
   "execution_count": 8,
   "id": "a575afc7",
   "metadata": {},
   "outputs": [
    {
     "data": {
      "text/plain": [
       "<1H OCEAN     9136\n",
       "INLAND        6551\n",
       "NEAR OCEAN    2658\n",
       "NEAR BAY      2290\n",
       "ISLAND           5\n",
       "Name: ocean_proximity, dtype: int64"
      ]
     },
     "execution_count": 8,
     "metadata": {},
     "output_type": "execute_result"
    }
   ],
   "source": [
    "California['ocean_proximity'].value_counts()"
   ]
  },
  {
   "cell_type": "code",
   "execution_count": 9,
   "id": "8ee58694",
   "metadata": {},
   "outputs": [
    {
     "data": {
      "image/png": "[encoded data removed]",
      "text/plain": [
       "<Figure size 1440x1080 with 9 Axes>"
      ]
     },
     "metadata": {
      "needs_background": "light"
     },
     "output_type": "display_data"
    }
   ],
   "source": [
    "%matplotlib inline\n",
    "import matplotlib.pyplot as plt\n",
    "California.hist(bins=50, figsize=(20,15))\n",
    "plt.show()"
   ]
  },
  {
   "cell_type": "markdown",
   "id": "ad0eabb9",
   "metadata": {},
   "source": [
    "### Creating Median Income Categories"
   ]
  },
  {
   "cell_type": "code",
   "execution_count": 10,
   "id": "6b867fe9",
   "metadata": {},
   "outputs": [
    {
     "data": {
      "text/plain": [
       "<AxesSubplot:>"
      ]
     },
     "execution_count": 10,
     "metadata": {},
     "output_type": "execute_result"
    },
    {
     "data": {
      "image/png": "[encoded data removed]",
      "text/plain": [
       "<Figure size 576x432 with 1 Axes>"
      ]
     },
     "metadata": {
      "needs_background": "light"
     },
     "output_type": "display_data"
    }
   ],
   "source": [
    "California['median_income'].hist(figsize=(8,6))"
   ]
  },
  {
   "cell_type": "code",
   "execution_count": 11,
   "id": "a0c4c8f7",
   "metadata": {},
   "outputs": [
    {
     "data": {
      "text/plain": [
       "3    7236\n",
       "2    6581\n",
       "4    3639\n",
       "5    2362\n",
       "1     822\n",
       "Name: income_cat, dtype: int64"
      ]
     },
     "execution_count": 11,
     "metadata": {},
     "output_type": "execute_result"
    }
   ],
   "source": [
    "California[\"income_cat\"] = pd.cut(California[\"median_income\"],\n",
    "                               bins=[0., 1.5, 3.0, 4.5, 6., np.inf],\n",
    "                               labels=[1, 2, 3, 4, 5])\n",
    "\n",
    "California['income_cat'].value_counts()"
   ]
  },
  {
   "cell_type": "code",
   "execution_count": 12,
   "id": "9439beb4",
   "metadata": {},
   "outputs": [
    {
     "data": {
      "text/plain": [
       "<AxesSubplot:>"
      ]
     },
     "execution_count": 12,
     "metadata": {},
     "output_type": "execute_result"
    },
    {
     "data": {
      "image/png": "[encoded data removed]",
      "text/plain": [
       "<Figure size 576x432 with 1 Axes>"
      ]
     },
     "metadata": {
      "needs_background": "light"
     },
     "output_type": "display_data"
    }
   ],
   "source": [
    "California['income_cat'].hist(figsize=(8,6))"
   ]
  },
  {
   "cell_type": "markdown",
   "id": "c7aaf232",
   "metadata": {},
   "source": [
    "### Creating Stratifiedsplit Test and Train set"
   ]
  },
  {
   "cell_type": "code",
   "execution_count": 13,
   "id": "0f2b06d3",
   "metadata": {},
   "outputs": [],
   "source": [
    "from sklearn.model_selection import StratifiedShuffleSplit\n",
    "\n",
    "split = StratifiedShuffleSplit(n_splits=1, test_size=0.2, random_state=50)\n",
    "for train_index, test_index in split.split(California, California[\"income_cat\"]):\n",
    "    strat_train_set = California.loc[train_index]\n",
    "    strat_test_set = California.loc[test_index]"
   ]
  },
  {
   "cell_type": "markdown",
   "id": "48f3ef4e",
   "metadata": {},
   "source": [
    "### Comparing Stratified Test with Fulldataset"
   ]
  },
  {
   "cell_type": "code",
   "execution_count": 14,
   "id": "f9ba1882",
   "metadata": {},
   "outputs": [
    {
     "data": {
      "text/html": [
       "<div>\n",
       "<style scoped>\n",
       "    .dataframe tbody tr th:only-of-type {\n",
       "        vertical-align: middle;\n",
       "    }\n",
       "\n",
       "    .dataframe tbody tr th {\n",
       "        vertical-align: top;\n",
       "    }\n",
       "\n",
       "    .dataframe thead th {\n",
       "        text-align: right;\n",
       "    }\n",
       "</style>\n",
       "<table border=\"1\" class=\"dataframe\">\n",
       "  <thead>\n",
       "    <tr style=\"text-align: right;\">\n",
       "      <th></th>\n",
       "      <th>Index</th>\n",
       "      <th>Ratio Test</th>\n",
       "      <th>Ratio Fulldataset</th>\n",
       "    </tr>\n",
       "  </thead>\n",
       "  <tbody>\n",
       "    <tr>\n",
       "      <th>0</th>\n",
       "      <td>3</td>\n",
       "      <td>0.350533</td>\n",
       "      <td>0.350581</td>\n",
       "    </tr>\n",
       "    <tr>\n",
       "      <th>1</th>\n",
       "      <td>2</td>\n",
       "      <td>0.318798</td>\n",
       "      <td>0.318847</td>\n",
       "    </tr>\n",
       "    <tr>\n",
       "      <th>2</th>\n",
       "      <td>4</td>\n",
       "      <td>0.176357</td>\n",
       "      <td>0.176308</td>\n",
       "    </tr>\n",
       "    <tr>\n",
       "      <th>3</th>\n",
       "      <td>5</td>\n",
       "      <td>0.114583</td>\n",
       "      <td>0.114438</td>\n",
       "    </tr>\n",
       "    <tr>\n",
       "      <th>4</th>\n",
       "      <td>1</td>\n",
       "      <td>0.039729</td>\n",
       "      <td>0.039826</td>\n",
       "    </tr>\n",
       "  </tbody>\n",
       "</table>\n",
       "</div>"
      ],
      "text/plain": [
       "  Index  Ratio Test  Ratio Fulldataset\n",
       "0     3    0.350533           0.350581\n",
       "1     2    0.318798           0.318847\n",
       "2     4    0.176357           0.176308\n",
       "3     5    0.114583           0.114438\n",
       "4     1    0.039729           0.039826"
      ]
     },
     "execution_count": 14,
     "metadata": {},
     "output_type": "execute_result"
    }
   ],
   "source": [
    "stt1 = (strat_test_set[\"income_cat\"].value_counts() / len(strat_test_set)).reset_index()\n",
    "stt1.columns = ['Index','Ratio Test']\n",
    "stt2 = (California[\"income_cat\"].value_counts() / len(California)).reset_index()\n",
    "stt2.columns = ['Index', 'Ratio Fulldataset']\n",
    "merged_data2 = pd.merge(stt1, stt2, on=['Index'])\n",
    "merged_data2"
   ]
  },
  {
   "cell_type": "code",
   "execution_count": 15,
   "id": "3997d8ad",
   "metadata": {},
   "outputs": [],
   "source": [
    "# Dropping the income categories feature\n",
    "# because we already know that test set is preety much representative of full data\n",
    "for set_ in (strat_train_set, strat_test_set):\n",
    "    set_.drop(\"income_cat\", axis=1, inplace=True)"
   ]
  },
  {
   "cell_type": "markdown",
   "id": "a8ba38e7",
   "metadata": {},
   "source": [
    "## Data Exploration"
   ]
  },
  {
   "cell_type": "code",
   "execution_count": 16,
   "id": "edfadcde",
   "metadata": {},
   "outputs": [],
   "source": [
    "# Using the stratified train as our new dataset for training model\n",
    "California = strat_train_set.copy()"
   ]
  },
  {
   "cell_type": "markdown",
   "id": "b6ee4dc8",
   "metadata": {},
   "source": [
    "### Visualizing Geographical Data"
   ]
  },
  {
   "cell_type": "code",
   "execution_count": 17,
   "id": "6b9b76f8",
   "metadata": {},
   "outputs": [
    {
     "data": {
      "text/plain": [
       "<AxesSubplot:xlabel='longitude', ylabel='latitude'>"
      ]
     },
     "execution_count": 17,
     "metadata": {},
     "output_type": "execute_result"
    },
    {
     "data": {
      "image/png": "[encoded data removed]",
      "text/plain": [
       "<Figure size 576x432 with 1 Axes>"
      ]
     },
     "metadata": {
      "needs_background": "light"
     },
     "output_type": "display_data"
    }
   ],
   "source": [
    "California.plot(kind=\"scatter\", x=\"longitude\", y=\"latitude\", figsize=(8,6))"
   ]
  },
  {
   "cell_type": "code",
   "execution_count": 18,
   "id": "156c3251",
   "metadata": {},
   "outputs": [
    {
     "data": {
      "text/plain": [
       "<AxesSubplot:xlabel='longitude', ylabel='latitude'>"
      ]
     },
     "execution_count": 18,
     "metadata": {},
     "output_type": "execute_result"
    },
    {
     "data": {
      "image/png": "[encoded data removed]",
      "text/plain": [
       "<Figure size 576x432 with 1 Axes>"
      ]
     },
     "metadata": {
      "needs_background": "light"
     },
     "output_type": "display_data"
    }
   ],
   "source": [
    "California.plot(kind=\"scatter\", x=\"longitude\", y=\"latitude\",alpha = 0.1, figsize=(8,6))"
   ]
  },
  {
   "cell_type": "code",
   "execution_count": 19,
   "id": "cff30d66",
   "metadata": {},
   "outputs": [
    {
     "data": {
      "text/plain": [
       "<matplotlib.legend.Legend at 0x24faa525c70>"
      ]
     },
     "execution_count": 19,
     "metadata": {},
     "output_type": "execute_result"
    },
    {
     "data": {
      "image/png": "[encoded data removed]",
      "text/plain": [
       "<Figure size 720x576 with 2 Axes>"
      ]
     },
     "metadata": {
      "needs_background": "light"
     },
     "output_type": "display_data"
    }
   ],
   "source": [
    "California.plot(kind=\"scatter\", x=\"longitude\", y=\"latitude\", alpha=0.5,\n",
    "             s=California[\"population\"]/100, label=\"population\", figsize=(10,8),\n",
    "             c=\"median_house_value\", cmap=plt.get_cmap(\"jet\"), colorbar=True,\n",
    "             sharex=False)\n",
    "plt.legend()"
   ]
  },
  {
   "cell_type": "markdown",
   "id": "9f1614fc",
   "metadata": {},
   "source": [
    "### Correlations with Target Feature"
   ]
  },
  {
   "cell_type": "code",
   "execution_count": 20,
   "id": "c5f44165",
   "metadata": {},
   "outputs": [
    {
     "name": "stdout",
     "output_type": "stream",
     "text": [
      "Correlation features with median_house_value\n"
     ]
    },
    {
     "data": {
      "text/html": [
       "<div>\n",
       "<style scoped>\n",
       "    .dataframe tbody tr th:only-of-type {\n",
       "        vertical-align: middle;\n",
       "    }\n",
       "\n",
       "    .dataframe tbody tr th {\n",
       "        vertical-align: top;\n",
       "    }\n",
       "\n",
       "    .dataframe thead th {\n",
       "        text-align: right;\n",
       "    }\n",
       "</style>\n",
       "<table border=\"1\" class=\"dataframe\">\n",
       "  <thead>\n",
       "    <tr style=\"text-align: right;\">\n",
       "      <th></th>\n",
       "      <th>Features</th>\n",
       "      <th>Correlation Value</th>\n",
       "    </tr>\n",
       "  </thead>\n",
       "  <tbody>\n",
       "    <tr>\n",
       "      <th>0</th>\n",
       "      <td>median_house_value</td>\n",
       "      <td>1.000000</td>\n",
       "    </tr>\n",
       "    <tr>\n",
       "      <th>1</th>\n",
       "      <td>median_income</td>\n",
       "      <td>0.686930</td>\n",
       "    </tr>\n",
       "    <tr>\n",
       "      <th>2</th>\n",
       "      <td>total_rooms</td>\n",
       "      <td>0.137060</td>\n",
       "    </tr>\n",
       "    <tr>\n",
       "      <th>3</th>\n",
       "      <td>housing_median_age</td>\n",
       "      <td>0.103783</td>\n",
       "    </tr>\n",
       "    <tr>\n",
       "      <th>4</th>\n",
       "      <td>households</td>\n",
       "      <td>0.066502</td>\n",
       "    </tr>\n",
       "    <tr>\n",
       "      <th>5</th>\n",
       "      <td>total_bedrooms</td>\n",
       "      <td>0.052551</td>\n",
       "    </tr>\n",
       "    <tr>\n",
       "      <th>6</th>\n",
       "      <td>population</td>\n",
       "      <td>-0.024807</td>\n",
       "    </tr>\n",
       "    <tr>\n",
       "      <th>7</th>\n",
       "      <td>longitude</td>\n",
       "      <td>-0.048513</td>\n",
       "    </tr>\n",
       "    <tr>\n",
       "      <th>8</th>\n",
       "      <td>latitude</td>\n",
       "      <td>-0.140663</td>\n",
       "    </tr>\n",
       "  </tbody>\n",
       "</table>\n",
       "</div>"
      ],
      "text/plain": [
       "             Features  Correlation Value\n",
       "0  median_house_value           1.000000\n",
       "1       median_income           0.686930\n",
       "2         total_rooms           0.137060\n",
       "3  housing_median_age           0.103783\n",
       "4          households           0.066502\n",
       "5      total_bedrooms           0.052551\n",
       "6          population          -0.024807\n",
       "7           longitude          -0.048513\n",
       "8            latitude          -0.140663"
      ]
     },
     "execution_count": 20,
     "metadata": {},
     "output_type": "execute_result"
    }
   ],
   "source": [
    "corr_matrix = California.corr()\n",
    "corr_medhouse = corr_matrix[\"median_house_value\"].sort_values(ascending=False).reset_index()\n",
    "corr_medhouse.columns = ['Features','Correlation Value']\n",
    "print('Correlation features with median_house_value')\n",
    "corr_medhouse.sort_values(by='Correlation Value',ascending=False)"
   ]
  },
  {
   "cell_type": "code",
   "execution_count": 21,
   "id": "dfda5c65",
   "metadata": {},
   "outputs": [
    {
     "data": {
      "text/plain": [
       "(0.0, 16.0, 0.0, 550000.0)"
      ]
     },
     "execution_count": 21,
     "metadata": {},
     "output_type": "execute_result"
    },
    {
     "data": {
      "image/png": "[encoded data removed]",
      "text/plain": [
       "<Figure size 576x432 with 1 Axes>"
      ]
     },
     "metadata": {
      "needs_background": "light"
     },
     "output_type": "display_data"
    }
   ],
   "source": [
    "California.plot(kind=\"scatter\", x=\"median_income\", y=\"median_house_value\",\n",
    "             alpha=0.1,figsize=(8,6))\n",
    "plt.axis([0, 16, 0, 550000])"
   ]
  },
  {
   "cell_type": "markdown",
   "id": "6e8f9755",
   "metadata": {},
   "source": [
    "### Feature Engineering Combination"
   ]
  },
  {
   "cell_type": "code",
   "execution_count": 22,
   "id": "67955956",
   "metadata": {},
   "outputs": [
    {
     "data": {
      "text/html": [
       "<div>\n",
       "<style scoped>\n",
       "    .dataframe tbody tr th:only-of-type {\n",
       "        vertical-align: middle;\n",
       "    }\n",
       "\n",
       "    .dataframe tbody tr th {\n",
       "        vertical-align: top;\n",
       "    }\n",
       "\n",
       "    .dataframe thead th {\n",
       "        text-align: right;\n",
       "    }\n",
       "</style>\n",
       "<table border=\"1\" class=\"dataframe\">\n",
       "  <thead>\n",
       "    <tr style=\"text-align: right;\">\n",
       "      <th></th>\n",
       "      <th>longitude</th>\n",
       "      <th>latitude</th>\n",
       "      <th>housing_median_age</th>\n",
       "      <th>total_rooms</th>\n",
       "      <th>total_bedrooms</th>\n",
       "      <th>population</th>\n",
       "      <th>households</th>\n",
       "      <th>median_income</th>\n",
       "      <th>median_house_value</th>\n",
       "      <th>ocean_proximity</th>\n",
       "      <th>rooms_per_household</th>\n",
       "      <th>bedrooms_per_household</th>\n",
       "      <th>pops_per_household</th>\n",
       "      <th>bedrooms_per_room</th>\n",
       "    </tr>\n",
       "  </thead>\n",
       "  <tbody>\n",
       "    <tr>\n",
       "      <th>17055</th>\n",
       "      <td>-122.25</td>\n",
       "      <td>37.47</td>\n",
       "      <td>35.0</td>\n",
       "      <td>3183.0</td>\n",
       "      <td>515.0</td>\n",
       "      <td>1313.0</td>\n",
       "      <td>487.0</td>\n",
       "      <td>5.9062</td>\n",
       "      <td>383200.0</td>\n",
       "      <td>NEAR OCEAN</td>\n",
       "      <td>6.535934</td>\n",
       "      <td>1.057495</td>\n",
       "      <td>2.696099</td>\n",
       "      <td>0.161797</td>\n",
       "    </tr>\n",
       "    <tr>\n",
       "      <th>4004</th>\n",
       "      <td>-118.61</td>\n",
       "      <td>34.15</td>\n",
       "      <td>32.0</td>\n",
       "      <td>4491.0</td>\n",
       "      <td>815.0</td>\n",
       "      <td>1696.0</td>\n",
       "      <td>749.0</td>\n",
       "      <td>4.9102</td>\n",
       "      <td>319100.0</td>\n",
       "      <td>&lt;1H OCEAN</td>\n",
       "      <td>5.995995</td>\n",
       "      <td>1.088117</td>\n",
       "      <td>2.264352</td>\n",
       "      <td>0.181474</td>\n",
       "    </tr>\n",
       "    <tr>\n",
       "      <th>3939</th>\n",
       "      <td>-118.58</td>\n",
       "      <td>34.21</td>\n",
       "      <td>27.0</td>\n",
       "      <td>2209.0</td>\n",
       "      <td>353.0</td>\n",
       "      <td>1034.0</td>\n",
       "      <td>344.0</td>\n",
       "      <td>4.7125</td>\n",
       "      <td>250900.0</td>\n",
       "      <td>&lt;1H OCEAN</td>\n",
       "      <td>6.421512</td>\n",
       "      <td>1.026163</td>\n",
       "      <td>3.005814</td>\n",
       "      <td>0.159801</td>\n",
       "    </tr>\n",
       "    <tr>\n",
       "      <th>1669</th>\n",
       "      <td>-122.23</td>\n",
       "      <td>38.06</td>\n",
       "      <td>52.0</td>\n",
       "      <td>1350.0</td>\n",
       "      <td>266.0</td>\n",
       "      <td>490.0</td>\n",
       "      <td>257.0</td>\n",
       "      <td>3.1250</td>\n",
       "      <td>171100.0</td>\n",
       "      <td>NEAR BAY</td>\n",
       "      <td>5.252918</td>\n",
       "      <td>1.035019</td>\n",
       "      <td>1.906615</td>\n",
       "      <td>0.197037</td>\n",
       "    </tr>\n",
       "    <tr>\n",
       "      <th>17938</th>\n",
       "      <td>-121.94</td>\n",
       "      <td>37.34</td>\n",
       "      <td>29.0</td>\n",
       "      <td>3377.0</td>\n",
       "      <td>853.0</td>\n",
       "      <td>1674.0</td>\n",
       "      <td>792.0</td>\n",
       "      <td>3.4233</td>\n",
       "      <td>229300.0</td>\n",
       "      <td>&lt;1H OCEAN</td>\n",
       "      <td>4.263889</td>\n",
       "      <td>1.077020</td>\n",
       "      <td>2.113636</td>\n",
       "      <td>0.252591</td>\n",
       "    </tr>\n",
       "  </tbody>\n",
       "</table>\n",
       "</div>"
      ],
      "text/plain": [
       "       longitude  latitude  housing_median_age  total_rooms  total_bedrooms  \\\n",
       "17055    -122.25     37.47                35.0       3183.0           515.0   \n",
       "4004     -118.61     34.15                32.0       4491.0           815.0   \n",
       "3939     -118.58     34.21                27.0       2209.0           353.0   \n",
       "1669     -122.23     38.06                52.0       1350.0           266.0   \n",
       "17938    -121.94     37.34                29.0       3377.0           853.0   \n",
       "\n",
       "       population  households  median_income  median_house_value  \\\n",
       "17055      1313.0       487.0         5.9062            383200.0   \n",
       "4004       1696.0       749.0         4.9102            319100.0   \n",
       "3939       1034.0       344.0         4.7125            250900.0   \n",
       "1669        490.0       257.0         3.1250            171100.0   \n",
       "17938      1674.0       792.0         3.4233            229300.0   \n",
       "\n",
       "      ocean_proximity  rooms_per_household  bedrooms_per_household  \\\n",
       "17055      NEAR OCEAN             6.535934                1.057495   \n",
       "4004        <1H OCEAN             5.995995                1.088117   \n",
       "3939        <1H OCEAN             6.421512                1.026163   \n",
       "1669         NEAR BAY             5.252918                1.035019   \n",
       "17938       <1H OCEAN             4.263889                1.077020   \n",
       "\n",
       "       pops_per_household  bedrooms_per_room  \n",
       "17055            2.696099           0.161797  \n",
       "4004             2.264352           0.181474  \n",
       "3939             3.005814           0.159801  \n",
       "1669             1.906615           0.197037  \n",
       "17938            2.113636           0.252591  "
      ]
     },
     "execution_count": 22,
     "metadata": {},
     "output_type": "execute_result"
    }
   ],
   "source": [
    "California['rooms_per_household'] = California['total_rooms']/California['households']\n",
    "California['bedrooms_per_household'] = California['total_bedrooms']/California['households']\n",
    "California['pops_per_household'] = California['population']/California['households']\n",
    "California[\"bedrooms_per_room\"] = California[\"total_bedrooms\"]/California[\"total_rooms\"]\n",
    "California.head()"
   ]
  },
  {
   "cell_type": "code",
   "execution_count": 23,
   "id": "f59a9d48",
   "metadata": {},
   "outputs": [
    {
     "name": "stdout",
     "output_type": "stream",
     "text": [
      "Correlation features with median_house_value\n"
     ]
    },
    {
     "data": {
      "text/html": [
       "<div>\n",
       "<style scoped>\n",
       "    .dataframe tbody tr th:only-of-type {\n",
       "        vertical-align: middle;\n",
       "    }\n",
       "\n",
       "    .dataframe tbody tr th {\n",
       "        vertical-align: top;\n",
       "    }\n",
       "\n",
       "    .dataframe thead th {\n",
       "        text-align: right;\n",
       "    }\n",
       "</style>\n",
       "<table border=\"1\" class=\"dataframe\">\n",
       "  <thead>\n",
       "    <tr style=\"text-align: right;\">\n",
       "      <th></th>\n",
       "      <th>Features</th>\n",
       "      <th>Correlation Value</th>\n",
       "    </tr>\n",
       "  </thead>\n",
       "  <tbody>\n",
       "    <tr>\n",
       "      <th>0</th>\n",
       "      <td>median_house_value</td>\n",
       "      <td>1.000000</td>\n",
       "    </tr>\n",
       "    <tr>\n",
       "      <th>1</th>\n",
       "      <td>median_income</td>\n",
       "      <td>0.686930</td>\n",
       "    </tr>\n",
       "    <tr>\n",
       "      <th>2</th>\n",
       "      <td>rooms_per_household</td>\n",
       "      <td>0.151308</td>\n",
       "    </tr>\n",
       "    <tr>\n",
       "      <th>3</th>\n",
       "      <td>total_rooms</td>\n",
       "      <td>0.137060</td>\n",
       "    </tr>\n",
       "    <tr>\n",
       "      <th>4</th>\n",
       "      <td>housing_median_age</td>\n",
       "      <td>0.103783</td>\n",
       "    </tr>\n",
       "    <tr>\n",
       "      <th>5</th>\n",
       "      <td>households</td>\n",
       "      <td>0.066502</td>\n",
       "    </tr>\n",
       "    <tr>\n",
       "      <th>6</th>\n",
       "      <td>total_bedrooms</td>\n",
       "      <td>0.052551</td>\n",
       "    </tr>\n",
       "    <tr>\n",
       "      <th>7</th>\n",
       "      <td>population</td>\n",
       "      <td>-0.024807</td>\n",
       "    </tr>\n",
       "    <tr>\n",
       "      <th>8</th>\n",
       "      <td>pops_per_household</td>\n",
       "      <td>-0.027231</td>\n",
       "    </tr>\n",
       "    <tr>\n",
       "      <th>9</th>\n",
       "      <td>bedrooms_per_household</td>\n",
       "      <td>-0.037742</td>\n",
       "    </tr>\n",
       "    <tr>\n",
       "      <th>10</th>\n",
       "      <td>longitude</td>\n",
       "      <td>-0.048513</td>\n",
       "    </tr>\n",
       "    <tr>\n",
       "      <th>11</th>\n",
       "      <td>latitude</td>\n",
       "      <td>-0.140663</td>\n",
       "    </tr>\n",
       "    <tr>\n",
       "      <th>12</th>\n",
       "      <td>bedrooms_per_room</td>\n",
       "      <td>-0.228324</td>\n",
       "    </tr>\n",
       "  </tbody>\n",
       "</table>\n",
       "</div>"
      ],
      "text/plain": [
       "                  Features  Correlation Value\n",
       "0       median_house_value           1.000000\n",
       "1            median_income           0.686930\n",
       "2      rooms_per_household           0.151308\n",
       "3              total_rooms           0.137060\n",
       "4       housing_median_age           0.103783\n",
       "5               households           0.066502\n",
       "6           total_bedrooms           0.052551\n",
       "7               population          -0.024807\n",
       "8       pops_per_household          -0.027231\n",
       "9   bedrooms_per_household          -0.037742\n",
       "10               longitude          -0.048513\n",
       "11                latitude          -0.140663\n",
       "12       bedrooms_per_room          -0.228324"
      ]
     },
     "execution_count": 23,
     "metadata": {},
     "output_type": "execute_result"
    }
   ],
   "source": [
    "corr_matrix = California.corr()\n",
    "corr_medhouse2 = corr_matrix[\"median_house_value\"].sort_values(ascending=False).reset_index()\n",
    "corr_medhouse2.columns = ['Features','Correlation Value']\n",
    "print('Correlation features with median_house_value')\n",
    "corr_medhouse2.sort_values(by='Correlation Value',ascending=False)"
   ]
  },
  {
   "cell_type": "code",
   "execution_count": 24,
   "id": "53223863",
   "metadata": {},
   "outputs": [
    {
     "data": {
      "text/html": [
       "<div>\n",
       "<style scoped>\n",
       "    .dataframe tbody tr th:only-of-type {\n",
       "        vertical-align: middle;\n",
       "    }\n",
       "\n",
       "    .dataframe tbody tr th {\n",
       "        vertical-align: top;\n",
       "    }\n",
       "\n",
       "    .dataframe thead th {\n",
       "        text-align: right;\n",
       "    }\n",
       "</style>\n",
       "<table border=\"1\" class=\"dataframe\">\n",
       "  <thead>\n",
       "    <tr style=\"text-align: right;\">\n",
       "      <th></th>\n",
       "      <th>longitude</th>\n",
       "      <th>latitude</th>\n",
       "      <th>housing_median_age</th>\n",
       "      <th>total_rooms</th>\n",
       "      <th>total_bedrooms</th>\n",
       "      <th>population</th>\n",
       "      <th>households</th>\n",
       "      <th>median_income</th>\n",
       "      <th>median_house_value</th>\n",
       "      <th>rooms_per_household</th>\n",
       "      <th>bedrooms_per_household</th>\n",
       "      <th>pops_per_household</th>\n",
       "      <th>bedrooms_per_room</th>\n",
       "    </tr>\n",
       "  </thead>\n",
       "  <tbody>\n",
       "    <tr>\n",
       "      <th>count</th>\n",
       "      <td>16512.000000</td>\n",
       "      <td>16512.000000</td>\n",
       "      <td>16512.000000</td>\n",
       "      <td>16512.000000</td>\n",
       "      <td>16512.000000</td>\n",
       "      <td>16512.00000</td>\n",
       "      <td>16512.000000</td>\n",
       "      <td>16512.000000</td>\n",
       "      <td>16512.000000</td>\n",
       "      <td>16512.000000</td>\n",
       "      <td>16512.000000</td>\n",
       "      <td>16512.000000</td>\n",
       "      <td>16512.000000</td>\n",
       "    </tr>\n",
       "    <tr>\n",
       "      <th>mean</th>\n",
       "      <td>-119.572644</td>\n",
       "      <td>35.633534</td>\n",
       "      <td>28.718387</td>\n",
       "      <td>2639.905584</td>\n",
       "      <td>537.722626</td>\n",
       "      <td>1430.41806</td>\n",
       "      <td>500.894985</td>\n",
       "      <td>3.867919</td>\n",
       "      <td>207206.569222</td>\n",
       "      <td>5.427352</td>\n",
       "      <td>1.100999</td>\n",
       "      <td>3.070376</td>\n",
       "      <td>0.213823</td>\n",
       "    </tr>\n",
       "    <tr>\n",
       "      <th>std</th>\n",
       "      <td>2.002382</td>\n",
       "      <td>2.134432</td>\n",
       "      <td>12.603393</td>\n",
       "      <td>2182.949227</td>\n",
       "      <td>419.645447</td>\n",
       "      <td>1144.26038</td>\n",
       "      <td>382.509901</td>\n",
       "      <td>1.895831</td>\n",
       "      <td>115323.889433</td>\n",
       "      <td>2.565009</td>\n",
       "      <td>0.548704</td>\n",
       "      <td>10.930252</td>\n",
       "      <td>0.066463</td>\n",
       "    </tr>\n",
       "    <tr>\n",
       "      <th>min</th>\n",
       "      <td>-124.300000</td>\n",
       "      <td>32.540000</td>\n",
       "      <td>1.000000</td>\n",
       "      <td>2.000000</td>\n",
       "      <td>1.000000</td>\n",
       "      <td>3.00000</td>\n",
       "      <td>1.000000</td>\n",
       "      <td>0.499900</td>\n",
       "      <td>14999.000000</td>\n",
       "      <td>0.846154</td>\n",
       "      <td>0.283019</td>\n",
       "      <td>0.692308</td>\n",
       "      <td>0.042369</td>\n",
       "    </tr>\n",
       "    <tr>\n",
       "      <th>25%</th>\n",
       "      <td>-121.800000</td>\n",
       "      <td>33.940000</td>\n",
       "      <td>18.000000</td>\n",
       "      <td>1453.000000</td>\n",
       "      <td>298.000000</td>\n",
       "      <td>791.00000</td>\n",
       "      <td>281.000000</td>\n",
       "      <td>2.562500</td>\n",
       "      <td>120100.000000</td>\n",
       "      <td>4.441216</td>\n",
       "      <td>1.005318</td>\n",
       "      <td>2.426883</td>\n",
       "      <td>0.175160</td>\n",
       "    </tr>\n",
       "    <tr>\n",
       "      <th>50%</th>\n",
       "      <td>-118.500000</td>\n",
       "      <td>34.260000</td>\n",
       "      <td>29.000000</td>\n",
       "      <td>2131.000000</td>\n",
       "      <td>435.000000</td>\n",
       "      <td>1166.00000</td>\n",
       "      <td>410.000000</td>\n",
       "      <td>3.538500</td>\n",
       "      <td>180050.000000</td>\n",
       "      <td>5.228400</td>\n",
       "      <td>1.048256</td>\n",
       "      <td>2.817751</td>\n",
       "      <td>0.203044</td>\n",
       "    </tr>\n",
       "    <tr>\n",
       "      <th>75%</th>\n",
       "      <td>-118.010000</td>\n",
       "      <td>37.720000</td>\n",
       "      <td>37.000000</td>\n",
       "      <td>3137.000000</td>\n",
       "      <td>644.000000</td>\n",
       "      <td>1734.00000</td>\n",
       "      <td>606.000000</td>\n",
       "      <td>4.739700</td>\n",
       "      <td>265000.000000</td>\n",
       "      <td>6.042097</td>\n",
       "      <td>1.099536</td>\n",
       "      <td>3.283439</td>\n",
       "      <td>0.240000</td>\n",
       "    </tr>\n",
       "    <tr>\n",
       "      <th>max</th>\n",
       "      <td>-114.310000</td>\n",
       "      <td>41.950000</td>\n",
       "      <td>52.000000</td>\n",
       "      <td>39320.000000</td>\n",
       "      <td>6445.000000</td>\n",
       "      <td>35682.00000</td>\n",
       "      <td>6082.000000</td>\n",
       "      <td>15.000100</td>\n",
       "      <td>500001.000000</td>\n",
       "      <td>141.909091</td>\n",
       "      <td>34.066667</td>\n",
       "      <td>1243.333333</td>\n",
       "      <td>2.824675</td>\n",
       "    </tr>\n",
       "  </tbody>\n",
       "</table>\n",
       "</div>"
      ],
      "text/plain": [
       "          longitude      latitude  housing_median_age   total_rooms  \\\n",
       "count  16512.000000  16512.000000        16512.000000  16512.000000   \n",
       "mean    -119.572644     35.633534           28.718387   2639.905584   \n",
       "std        2.002382      2.134432           12.603393   2182.949227   \n",
       "min     -124.300000     32.540000            1.000000      2.000000   \n",
       "25%     -121.800000     33.940000           18.000000   1453.000000   \n",
       "50%     -118.500000     34.260000           29.000000   2131.000000   \n",
       "75%     -118.010000     37.720000           37.000000   3137.000000   \n",
       "max     -114.310000     41.950000           52.000000  39320.000000   \n",
       "\n",
       "       total_bedrooms   population    households  median_income  \\\n",
       "count    16512.000000  16512.00000  16512.000000   16512.000000   \n",
       "mean       537.722626   1430.41806    500.894985       3.867919   \n",
       "std        419.645447   1144.26038    382.509901       1.895831   \n",
       "min          1.000000      3.00000      1.000000       0.499900   \n",
       "25%        298.000000    791.00000    281.000000       2.562500   \n",
       "50%        435.000000   1166.00000    410.000000       3.538500   \n",
       "75%        644.000000   1734.00000    606.000000       4.739700   \n",
       "max       6445.000000  35682.00000   6082.000000      15.000100   \n",
       "\n",
       "       median_house_value  rooms_per_household  bedrooms_per_household  \\\n",
       "count        16512.000000         16512.000000            16512.000000   \n",
       "mean        207206.569222             5.427352                1.100999   \n",
       "std         115323.889433             2.565009                0.548704   \n",
       "min          14999.000000             0.846154                0.283019   \n",
       "25%         120100.000000             4.441216                1.005318   \n",
       "50%         180050.000000             5.228400                1.048256   \n",
       "75%         265000.000000             6.042097                1.099536   \n",
       "max         500001.000000           141.909091               34.066667   \n",
       "\n",
       "       pops_per_household  bedrooms_per_room  \n",
       "count        16512.000000       16512.000000  \n",
       "mean             3.070376           0.213823  \n",
       "std             10.930252           0.066463  \n",
       "min              0.692308           0.042369  \n",
       "25%              2.426883           0.175160  \n",
       "50%              2.817751           0.203044  \n",
       "75%              3.283439           0.240000  \n",
       "max           1243.333333           2.824675  "
      ]
     },
     "execution_count": 24,
     "metadata": {},
     "output_type": "execute_result"
    }
   ],
   "source": [
    "California.describe()"
   ]
  },
  {
   "cell_type": "markdown",
   "id": "00dbcbe3",
   "metadata": {},
   "source": [
    "## Prepare Data for Machine Learning Alogrithm"
   ]
  },
  {
   "cell_type": "code",
   "execution_count": 25,
   "id": "4402fd44",
   "metadata": {},
   "outputs": [],
   "source": [
    "California = strat_train_set.drop(\"median_house_value\", axis=1) # drop labels for training set\n",
    "California_labels = strat_train_set[\"median_house_value\"].copy()"
   ]
  },
  {
   "cell_type": "markdown",
   "id": "fa75c7c5",
   "metadata": {},
   "source": [
    "### Splitting Numerical and Categorical Features"
   ]
  },
  {
   "cell_type": "code",
   "execution_count": 26,
   "id": "6feb8b49",
   "metadata": {},
   "outputs": [],
   "source": [
    "California_num = California.drop(\"ocean_proximity\", axis=1)\n",
    "# alternatively: housing_num = housing.select_dtypes(include=[np.number])"
   ]
  },
  {
   "cell_type": "markdown",
   "id": "1e3d0a54",
   "metadata": {},
   "source": [
    "### Handling Text / Categorical Features"
   ]
  },
  {
   "cell_type": "code",
   "execution_count": 27,
   "id": "a1b23f81",
   "metadata": {},
   "outputs": [
    {
     "data": {
      "text/html": [
       "<div>\n",
       "<style scoped>\n",
       "    .dataframe tbody tr th:only-of-type {\n",
       "        vertical-align: middle;\n",
       "    }\n",
       "\n",
       "    .dataframe tbody tr th {\n",
       "        vertical-align: top;\n",
       "    }\n",
       "\n",
       "    .dataframe thead th {\n",
       "        text-align: right;\n",
       "    }\n",
       "</style>\n",
       "<table border=\"1\" class=\"dataframe\">\n",
       "  <thead>\n",
       "    <tr style=\"text-align: right;\">\n",
       "      <th></th>\n",
       "      <th>ocean_proximity</th>\n",
       "    </tr>\n",
       "  </thead>\n",
       "  <tbody>\n",
       "    <tr>\n",
       "      <th>17055</th>\n",
       "      <td>NEAR OCEAN</td>\n",
       "    </tr>\n",
       "    <tr>\n",
       "      <th>4004</th>\n",
       "      <td>&lt;1H OCEAN</td>\n",
       "    </tr>\n",
       "    <tr>\n",
       "      <th>3939</th>\n",
       "      <td>&lt;1H OCEAN</td>\n",
       "    </tr>\n",
       "    <tr>\n",
       "      <th>1669</th>\n",
       "      <td>NEAR BAY</td>\n",
       "    </tr>\n",
       "    <tr>\n",
       "      <th>17938</th>\n",
       "      <td>&lt;1H OCEAN</td>\n",
       "    </tr>\n",
       "    <tr>\n",
       "      <th>15041</th>\n",
       "      <td>&lt;1H OCEAN</td>\n",
       "    </tr>\n",
       "    <tr>\n",
       "      <th>9807</th>\n",
       "      <td>NEAR OCEAN</td>\n",
       "    </tr>\n",
       "    <tr>\n",
       "      <th>1910</th>\n",
       "      <td>INLAND</td>\n",
       "    </tr>\n",
       "    <tr>\n",
       "      <th>7926</th>\n",
       "      <td>&lt;1H OCEAN</td>\n",
       "    </tr>\n",
       "    <tr>\n",
       "      <th>15921</th>\n",
       "      <td>NEAR BAY</td>\n",
       "    </tr>\n",
       "  </tbody>\n",
       "</table>\n",
       "</div>"
      ],
      "text/plain": [
       "      ocean_proximity\n",
       "17055      NEAR OCEAN\n",
       "4004        <1H OCEAN\n",
       "3939        <1H OCEAN\n",
       "1669         NEAR BAY\n",
       "17938       <1H OCEAN\n",
       "15041       <1H OCEAN\n",
       "9807       NEAR OCEAN\n",
       "1910           INLAND\n",
       "7926        <1H OCEAN\n",
       "15921        NEAR BAY"
      ]
     },
     "execution_count": 27,
     "metadata": {},
     "output_type": "execute_result"
    }
   ],
   "source": [
    "California_cat = California[[\"ocean_proximity\"]]\n",
    "California_cat.head(10)"
   ]
  },
  {
   "cell_type": "code",
   "execution_count": 28,
   "id": "404e14d9",
   "metadata": {},
   "outputs": [
    {
     "data": {
      "text/plain": [
       "<16512x5 sparse matrix of type '<class 'numpy.float64'>'\n",
       "\twith 16512 stored elements in Compressed Sparse Row format>"
      ]
     },
     "execution_count": 28,
     "metadata": {},
     "output_type": "execute_result"
    }
   ],
   "source": [
    "from sklearn.preprocessing import OneHotEncoder\n",
    "\n",
    "cat_encoder = OneHotEncoder()\n",
    "California_cat_1hot = cat_encoder.fit_transform(California_cat)\n",
    "California_cat_1hot"
   ]
  },
  {
   "cell_type": "code",
   "execution_count": 29,
   "id": "424dc8be",
   "metadata": {},
   "outputs": [
    {
     "data": {
      "text/plain": [
       "array([[0., 0., 0., 0., 1.],\n",
       "       [1., 0., 0., 0., 0.],\n",
       "       [1., 0., 0., 0., 0.],\n",
       "       ...,\n",
       "       [1., 0., 0., 0., 0.],\n",
       "       [1., 0., 0., 0., 0.],\n",
       "       [0., 1., 0., 0., 0.]])"
      ]
     },
     "execution_count": 29,
     "metadata": {},
     "output_type": "execute_result"
    }
   ],
   "source": [
    "# Or Alternatiely you can set sparse to False \n",
    "from sklearn.preprocessing import OneHotEncoder\n",
    "\n",
    "cat_encoder = OneHotEncoder(sparse=False)\n",
    "California_cat_2hot = cat_encoder.fit_transform(California_cat)\n",
    "California_cat_2hot"
   ]
  },
  {
   "cell_type": "markdown",
   "id": "81ef79e2",
   "metadata": {},
   "source": [
    "### Custom Pipeline Transformation"
   ]
  },
  {
   "cell_type": "code",
   "execution_count": 30,
   "id": "aeabf218",
   "metadata": {},
   "outputs": [],
   "source": [
    "from sklearn.compose import ColumnTransformer\n",
    "from sklearn.pipeline import Pipeline\n",
    "from sklearn.preprocessing import StandardScaler\n",
    "\n",
    "num_pipeline = Pipeline([\n",
    "        ('std_scaler', StandardScaler()),\n",
    "    ])\n",
    "\n",
    "num_attribs = list(California_num)\n",
    "cat_attribs = [\"ocean_proximity\"]\n",
    "\n",
    "full_pipeline = ColumnTransformer([\n",
    "        (\"num\", num_pipeline, num_attribs),\n",
    "        (\"cat\", OneHotEncoder(), cat_attribs),\n",
    "    ])\n",
    "\n",
    "California_prepared = full_pipeline.fit_transform(California)"
   ]
  },
  {
   "cell_type": "code",
   "execution_count": 31,
   "id": "04340e41",
   "metadata": {},
   "outputs": [
    {
     "data": {
      "text/plain": [
       "array([[-1.33712633,  0.86042624,  0.4984216 , ...,  0.        ,\n",
       "         0.        ,  1.        ],\n",
       "       [ 0.48076378, -0.69506988,  0.26038327, ...,  0.        ,\n",
       "         0.        ,  0.        ],\n",
       "       [ 0.49574639, -0.6669585 , -0.1363473 , ...,  0.        ,\n",
       "         0.        ,  0.        ],\n",
       "       ...,\n",
       "       [ 0.55567683, -0.75129263,  0.81580606, ...,  0.        ,\n",
       "         0.        ,  0.        ],\n",
       "       [ 0.94023051, -0.97618363, -2.04065401, ...,  0.        ,\n",
       "         0.        ,  0.        ],\n",
       "       [-0.01865658,  0.61210909, -1.16784677, ...,  0.        ,\n",
       "         0.        ,  0.        ]])"
      ]
     },
     "execution_count": 31,
     "metadata": {},
     "output_type": "execute_result"
    }
   ],
   "source": [
    "California_prepared"
   ]
  },
  {
   "cell_type": "markdown",
   "id": "9d6b93d2",
   "metadata": {},
   "source": [
    "## Select and Train Model"
   ]
  },
  {
   "cell_type": "markdown",
   "id": "ae5eda04",
   "metadata": {},
   "source": [
    "### Linear Regression Model"
   ]
  },
  {
   "cell_type": "code",
   "execution_count": 32,
   "id": "a1b99038",
   "metadata": {},
   "outputs": [
    {
     "data": {
      "text/plain": [
       "LinearRegression()"
      ]
     },
     "execution_count": 32,
     "metadata": {},
     "output_type": "execute_result"
    }
   ],
   "source": [
    "# Choosing Model\n",
    "from sklearn.linear_model import LinearRegression\n",
    "\n",
    "lin_reg = LinearRegression()\n",
    "lin_reg.fit(California_prepared, California_labels)"
   ]
  },
  {
   "cell_type": "code",
   "execution_count": 33,
   "id": "9349bd36",
   "metadata": {},
   "outputs": [
    {
     "name": "stdout",
     "output_type": "stream",
     "text": [
      "Linear Reg. RMSE : 68777.12503644277\n",
      "Linear Reg. MAE : 49831.72275763095\n"
     ]
    }
   ],
   "source": [
    "# Model Evaluation with RMSE and MAE Metric\n",
    "\n",
    "from sklearn.metrics import mean_squared_error\n",
    "from sklearn.metrics import mean_absolute_error\n",
    "\n",
    "California_predictions = lin_reg.predict(California_prepared)\n",
    "lin_mse = mean_squared_error(California_labels, California_predictions)\n",
    "lin_rmse = np.sqrt(lin_mse)\n",
    "print('Linear Reg. RMSE :',lin_rmse)\n",
    "\n",
    "lin_mae = mean_absolute_error(California_labels, California_predictions)\n",
    "print('Linear Reg. MAE :',lin_mae)"
   ]
  },
  {
   "cell_type": "markdown",
   "id": "4a28d0fb",
   "metadata": {},
   "source": [
    "### Decision Tree Regression Model"
   ]
  },
  {
   "cell_type": "code",
   "execution_count": 34,
   "id": "497aecd9",
   "metadata": {},
   "outputs": [
    {
     "data": {
      "text/plain": [
       "DecisionTreeRegressor(random_state=50)"
      ]
     },
     "execution_count": 34,
     "metadata": {},
     "output_type": "execute_result"
    }
   ],
   "source": [
    "# Choosing Model\n",
    "from sklearn.tree import DecisionTreeRegressor\n",
    "\n",
    "tree_reg = DecisionTreeRegressor(random_state=50)\n",
    "tree_reg.fit(California_prepared, California_labels)"
   ]
  },
  {
   "cell_type": "code",
   "execution_count": 35,
   "id": "138ea49a",
   "metadata": {},
   "outputs": [
    {
     "name": "stdout",
     "output_type": "stream",
     "text": [
      "Decision Tree Reg. RMSE : 0.0\n",
      "Decision Tree Reg. MAE : 0.0\n"
     ]
    }
   ],
   "source": [
    "# Model Evaluation with RMSE and MAE Metric\n",
    "\n",
    "California_predictions = tree_reg.predict(California_prepared)\n",
    "tree_mse = mean_squared_error(California_labels, California_predictions)\n",
    "tree_rmse = np.sqrt(tree_mse)\n",
    "tree_mae = mean_absolute_error(California_labels, California_predictions)\n",
    "\n",
    "print('Decision Tree Reg. RMSE :',tree_rmse)\n",
    "print('Decision Tree Reg. MAE :',tree_mae)"
   ]
  },
  {
   "cell_type": "markdown",
   "id": "1580a573",
   "metadata": {},
   "source": [
    "### Random Forest Regression Model"
   ]
  },
  {
   "cell_type": "code",
   "execution_count": 36,
   "id": "b69a2ec5",
   "metadata": {},
   "outputs": [
    {
     "data": {
      "text/plain": [
       "RandomForestRegressor(random_state=50)"
      ]
     },
     "execution_count": 36,
     "metadata": {},
     "output_type": "execute_result"
    }
   ],
   "source": [
    "from sklearn.ensemble import RandomForestRegressor\n",
    "\n",
    "forest_reg = RandomForestRegressor(n_estimators=100, random_state=50)\n",
    "forest_reg.fit(California_prepared, California_labels)"
   ]
  },
  {
   "cell_type": "code",
   "execution_count": 37,
   "id": "336cd54a",
   "metadata": {},
   "outputs": [
    {
     "name": "stdout",
     "output_type": "stream",
     "text": [
      "Random Forest Reg. RMSE : 18141.62284949507\n",
      "Random Forest Reg. MAE : 11727.108921996125\n"
     ]
    }
   ],
   "source": [
    "California_predictions = forest_reg.predict(California_prepared)\n",
    "forest_mse = mean_squared_error(California_labels, California_predictions)\n",
    "forest_rmse = np.sqrt(forest_mse)\n",
    "forest_mae = mean_absolute_error(California_labels, California_predictions)\n",
    "\n",
    "print('Random Forest Reg. RMSE :',forest_rmse)\n",
    "print('Random Forest Reg. MAE :',forest_mae)"
   ]
  },
  {
   "cell_type": "markdown",
   "id": "9989b320",
   "metadata": {},
   "source": [
    "### Support Vector Regressor"
   ]
  },
  {
   "cell_type": "code",
   "execution_count": 38,
   "id": "ae94c9a2",
   "metadata": {},
   "outputs": [
    {
     "data": {
      "text/plain": [
       "SVR()"
      ]
     },
     "execution_count": 38,
     "metadata": {},
     "output_type": "execute_result"
    }
   ],
   "source": [
    "from sklearn.svm import SVR\n",
    "\n",
    "svr_reg = SVR()\n",
    "svr_reg.fit(California_prepared, California_labels)"
   ]
  },
  {
   "cell_type": "code",
   "execution_count": 39,
   "id": "f1f79651",
   "metadata": {},
   "outputs": [
    {
     "name": "stdout",
     "output_type": "stream",
     "text": [
      "SVR RMSE : 118096.46334907328\n",
      "SVR MAE : 87929.57712909755\n"
     ]
    }
   ],
   "source": [
    "California_predictions = svr_reg.predict(California_prepared)\n",
    "svr_mse = mean_squared_error(California_labels, California_predictions)\n",
    "svr_rmse = np.sqrt(svr_mse)\n",
    "svr_mae = mean_absolute_error(California_labels, California_predictions)\n",
    "\n",
    "print('SVR RMSE :',svr_rmse)\n",
    "print('SVR MAE :',svr_mae)"
   ]
  },
  {
   "cell_type": "markdown",
   "id": "838b7c9f",
   "metadata": {},
   "source": [
    "### Gradient Boosting Regressor"
   ]
  },
  {
   "cell_type": "code",
   "execution_count": 44,
   "id": "0ea0972a",
   "metadata": {},
   "outputs": [
    {
     "data": {
      "text/plain": [
       "GradientBoostingRegressor(random_state=50)"
      ]
     },
     "execution_count": 44,
     "metadata": {},
     "output_type": "execute_result"
    }
   ],
   "source": [
    "from sklearn.ensemble import GradientBoostingRegressor\n",
    "\n",
    "sgb_reg = GradientBoostingRegressor(random_state=50)\n",
    "sgb_reg.fit(California_prepared, California_labels)"
   ]
  },
  {
   "cell_type": "code",
   "execution_count": 45,
   "id": "d2874a0b",
   "metadata": {},
   "outputs": [
    {
     "name": "stdout",
     "output_type": "stream",
     "text": [
      "SGB RMSE : 118096.46334907328\n",
      "SGB MAE : 37323.86126929009\n"
     ]
    }
   ],
   "source": [
    "California_predictions = sgb_reg.predict(California_prepared)\n",
    "sgb_mse = mean_squared_error(California_labels, California_predictions)\n",
    "sgb_rmse = np.sqrt(svr_mse)\n",
    "sgb_mae = mean_absolute_error(California_labels, California_predictions)\n",
    "\n",
    "print('SGB RMSE :',sgb_rmse)\n",
    "print('SGB MAE :',sgb_mae)"
   ]
  },
  {
   "cell_type": "markdown",
   "id": "5d108b6b",
   "metadata": {},
   "source": [
    "## Model Evaluation Thru Cross Validation"
   ]
  },
  {
   "cell_type": "markdown",
   "id": "d31461b7",
   "metadata": {},
   "source": [
    "### Decision Tree Cross Validation"
   ]
  },
  {
   "cell_type": "code",
   "execution_count": 41,
   "id": "5e2e9e8b",
   "metadata": {},
   "outputs": [
    {
     "name": "stdout",
     "output_type": "stream",
     "text": [
      "Scores: [64571.07260963 66563.86915707 69419.36017931 65231.66357726\n",
      " 67316.81826171 67509.57184824 65438.64790145 70202.32099672\n",
      " 71581.54296977 67328.62794296]\n",
      "Mean: 67516.34954441145\n",
      "Standard deviation: 2157.667652138402\n"
     ]
    }
   ],
   "source": [
    "from sklearn.model_selection import cross_val_score\n",
    "\n",
    "scores = cross_val_score(tree_reg, California_prepared, California_labels,\n",
    "                         scoring=\"neg_mean_squared_error\", cv=10)\n",
    "tree_rmse_scores = np.sqrt(-scores)\n",
    "\n",
    "def display_scores(scores):\n",
    "    print(\"Scores:\", scores)\n",
    "    print(\"Mean:\", scores.mean())\n",
    "    print(\"Standard deviation:\", scores.std())\n",
    "\n",
    "display_scores(tree_rmse_scores)"
   ]
  },
  {
   "cell_type": "markdown",
   "id": "200d91e9",
   "metadata": {},
   "source": [
    "### Linear Regression Cross Validation"
   ]
  },
  {
   "cell_type": "code",
   "execution_count": 42,
   "id": "26032a57",
   "metadata": {},
   "outputs": [
    {
     "name": "stdout",
     "output_type": "stream",
     "text": [
      "Scores: [68452.46638595 69504.73871183 73594.89926873 70335.14115848\n",
      " 66760.17626857 67036.99810208 67198.37396596 67145.4544666\n",
      " 70670.82157768 68480.03301364]\n",
      "Mean: 68917.9102919516\n",
      "Standard deviation: 2049.3965194506586\n"
     ]
    }
   ],
   "source": [
    "from sklearn.model_selection import cross_val_score\n",
    "\n",
    "lin_scores = cross_val_score(lin_reg, California_prepared, California_labels,\n",
    "                         scoring=\"neg_mean_squared_error\", cv=10)\n",
    "lin_rmse_scores = np.sqrt(-lin_scores)\n",
    "\n",
    "def display_scores(scores):\n",
    "    print(\"Scores:\", scores)\n",
    "    print(\"Mean:\", scores.mean())\n",
    "    print(\"Standard deviation:\", scores.std())\n",
    "\n",
    "display_scores(lin_rmse_scores)"
   ]
  },
  {
   "cell_type": "markdown",
   "id": "db9b19e3",
   "metadata": {},
   "source": [
    "### Random Forest Cross Validation"
   ]
  },
  {
   "cell_type": "code",
   "execution_count": 43,
   "id": "7843212e",
   "metadata": {},
   "outputs": [
    {
     "name": "stdout",
     "output_type": "stream",
     "text": [
      "Scores: [46355.57778585 50101.05353385 49016.06958267 50058.14529136\n",
      " 46609.0276893  49361.30032056 46994.43648841 49218.21680065\n",
      " 51143.55221576 47673.07551617]\n",
      "Mean: 48653.045522457905\n",
      "Standard deviation: 1561.863569459084\n"
     ]
    }
   ],
   "source": [
    "from sklearn.model_selection import cross_val_score\n",
    "\n",
    "forest_scores = cross_val_score(forest_reg, California_prepared, California_labels,\n",
    "                                scoring=\"neg_mean_squared_error\", cv=10)\n",
    "forest_rmse_scores = np.sqrt(-forest_scores)\n",
    "\n",
    "def display_scores(scores):\n",
    "    print(\"Scores:\", scores)\n",
    "    print(\"Mean:\", scores.mean())\n",
    "    print(\"Standard deviation:\", scores.std())\n",
    "    \n",
    "display_scores(forest_rmse_scores)"
   ]
  },
  {
   "cell_type": "markdown",
   "id": "4d011da9",
   "metadata": {},
   "source": [
    "### Support Vector Cross Validation"
   ]
  },
  {
   "cell_type": "code",
   "execution_count": 40,
   "id": "78437308",
   "metadata": {},
   "outputs": [
    {
     "name": "stdout",
     "output_type": "stream",
     "text": [
      "Scores: [120335.78067821 117108.85816079 119918.46613428 121018.44314608\n",
      " 112588.89879488 116243.63429039 119112.32162829 116274.61016373\n",
      " 123352.49832142 115086.52830319]\n",
      "Mean: 118104.00396212477\n",
      "Standard deviation: 3043.8457599899243\n"
     ]
    }
   ],
   "source": [
    "from sklearn.model_selection import cross_val_score\n",
    "\n",
    "svr_scores = cross_val_score(svr_reg, California_prepared, California_labels,\n",
    "                                scoring=\"neg_mean_squared_error\", cv=10)\n",
    "svr_rmse_scores = np.sqrt(-svr_scores)\n",
    "\n",
    "def display_scores(scores):\n",
    "    print(\"Scores:\", scores)\n",
    "    print(\"Mean:\", scores.mean())\n",
    "    print(\"Standard deviation:\", scores.std())\n",
    "    \n",
    "display_scores(svr_rmse_scores)"
   ]
  },
  {
   "cell_type": "markdown",
   "id": "1073c692",
   "metadata": {},
   "source": [
    "### SGB Cross Validation"
   ]
  },
  {
   "cell_type": "code",
   "execution_count": 47,
   "id": "03de99f0",
   "metadata": {},
   "outputs": [
    {
     "name": "stdout",
     "output_type": "stream",
     "text": [
      "Scores: [55747.00463045 56039.64844089 56262.53246687 56647.38020684\n",
      " 52139.3315464  55149.8763348  53219.26787999 55615.23075707\n",
      " 57110.77700088 54073.55149133]\n",
      "Mean: 55200.46007555312\n",
      "Standard deviation: 1503.7945746308326\n"
     ]
    }
   ],
   "source": [
    "from sklearn.model_selection import cross_val_score\n",
    "\n",
    "sgb_scores = cross_val_score(sgb_reg, California_prepared, California_labels,\n",
    "                                scoring=\"neg_mean_squared_error\", cv=10)\n",
    "sgb_rmse_scores = np.sqrt(-sgb_scores)\n",
    "\n",
    "def display_scores(scores):\n",
    "    print(\"Scores:\", scores)\n",
    "    print(\"Mean:\", scores.mean())\n",
    "    print(\"Standard deviation:\", scores.std())\n",
    "    \n",
    "display_scores(sgb_rmse_scores)"
   ]
  },
  {
   "cell_type": "markdown",
   "id": "86efaee1",
   "metadata": {},
   "source": [
    "### Grid Search For The Best Hyperparameters"
   ]
  },
  {
   "cell_type": "markdown",
   "id": "dd3fe0d2",
   "metadata": {},
   "source": [
    " - We are looking at the two best models based on cross validation scores, Random Forest and SGB Regressor. Using grid search to find the best hyperparameters for these two models."
   ]
  },
  {
   "cell_type": "markdown",
   "id": "994661fa",
   "metadata": {},
   "source": [
    "### SGB Regressor"
   ]
  },
  {
   "cell_type": "code",
   "execution_count": 53,
   "id": "32fa7290",
   "metadata": {},
   "outputs": [
    {
     "name": "stdout",
     "output_type": "stream",
     "text": [
      "Best: -2179197016.707200 using {'learning_rate': 0.1, 'max_depth': 5, 'n_estimators': 1000}\n",
      "108492.150050 (376427882.241049) with: {'learning_rate': 0.01, 'max_depth': 5, 'n_estimators': 10}\n",
      "75287.879844 (227328463.870875) with: {'learning_rate': 0.01, 'max_depth': 5, 'n_estimators': 100}\n",
      "49768.441195 (97132082.776187) with: {'learning_rate': 0.01, 'max_depth': 5, 'n_estimators': 1000}\n",
      "107002.672880 (376392541.328475) with: {'learning_rate': 0.01, 'max_depth': 10, 'n_estimators': 10}\n",
      "65569.686054 (193504918.209339) with: {'learning_rate': 0.01, 'max_depth': 10, 'n_estimators': 100}\n",
      "47361.094214 (78770810.760000) with: {'learning_rate': 0.01, 'max_depth': 10, 'n_estimators': 1000}\n",
      "106620.253466 (378529027.965258) with: {'learning_rate': 0.01, 'max_depth': 50, 'n_estimators': 10}\n",
      "69053.750902 (257318283.392120) with: {'learning_rate': 0.01, 'max_depth': 50, 'n_estimators': 100}\n",
      "66621.514476 (236042609.018331) with: {'learning_rate': 0.01, 'max_depth': 50, 'n_estimators': 1000}\n",
      "106620.253466 (378529027.965258) with: {'learning_rate': 0.01, 'max_depth': 100, 'n_estimators': 10}\n",
      "69054.205263 (257278785.651553) with: {'learning_rate': 0.01, 'max_depth': 100, 'n_estimators': 100}\n",
      "66621.724223 (236043621.621095) with: {'learning_rate': 0.01, 'max_depth': 100, 'n_estimators': 1000}\n",
      "74352.324775 (216118049.723242) with: {'learning_rate': 0.1, 'max_depth': 5, 'n_estimators': 10}\n",
      "49875.283608 (92056048.535980) with: {'learning_rate': 0.1, 'max_depth': 5, 'n_estimators': 100}\n",
      "46681.870321 (80122664.967987) with: {'learning_rate': 0.1, 'max_depth': 5, 'n_estimators': 1000}\n",
      "64734.962351 (191572519.435788) with: {'learning_rate': 0.1, 'max_depth': 10, 'n_estimators': 10}\n",
      "48084.387700 (81691985.363738) with: {'learning_rate': 0.1, 'max_depth': 10, 'n_estimators': 100}\n",
      "47795.565560 (77889027.568734) with: {'learning_rate': 0.1, 'max_depth': 10, 'n_estimators': 1000}\n",
      "68461.103277 (251946140.869427) with: {'learning_rate': 0.1, 'max_depth': 50, 'n_estimators': 10}\n",
      "66719.644401 (227784122.895464) with: {'learning_rate': 0.1, 'max_depth': 50, 'n_estimators': 100}\n",
      "66720.382919 (227784354.483889) with: {'learning_rate': 0.1, 'max_depth': 50, 'n_estimators': 1000}\n",
      "68461.103277 (251946140.869427) with: {'learning_rate': 0.1, 'max_depth': 100, 'n_estimators': 10}\n",
      "66719.605247 (227792760.625749) with: {'learning_rate': 0.1, 'max_depth': 100, 'n_estimators': 100}\n",
      "66720.343780 (227793001.232687) with: {'learning_rate': 0.1, 'max_depth': 100, 'n_estimators': 1000}\n",
      "58590.336543 (182598919.730938) with: {'learning_rate': 1, 'max_depth': 5, 'n_estimators': 10}\n",
      "62318.631088 (269649303.675402) with: {'learning_rate': 1, 'max_depth': 5, 'n_estimators': 100}\n",
      "65892.952008 (268210221.747409) with: {'learning_rate': 1, 'max_depth': 5, 'n_estimators': 1000}\n",
      "67748.889089 (69091709.184582) with: {'learning_rate': 1, 'max_depth': 10, 'n_estimators': 10}\n",
      "71010.668919 (62074196.503573) with: {'learning_rate': 1, 'max_depth': 10, 'n_estimators': 100}\n",
      "71011.848974 (61889726.247810) with: {'learning_rate': 1, 'max_depth': 10, 'n_estimators': 1000}\n",
      "69084.756433 (247910687.796795) with: {'learning_rate': 1, 'max_depth': 50, 'n_estimators': 10}\n",
      "69084.756433 (247910687.796795) with: {'learning_rate': 1, 'max_depth': 50, 'n_estimators': 100}\n",
      "69084.756433 (247910687.796795) with: {'learning_rate': 1, 'max_depth': 50, 'n_estimators': 1000}\n",
      "69084.756433 (247910687.796795) with: {'learning_rate': 1, 'max_depth': 100, 'n_estimators': 10}\n",
      "69084.756433 (247910687.796795) with: {'learning_rate': 1, 'max_depth': 100, 'n_estimators': 100}\n",
      "69084.756433 (247910687.796795) with: {'learning_rate': 1, 'max_depth': 100, 'n_estimators': 1000}\n"
     ]
    }
   ],
   "source": [
    "from sklearn.model_selection import GridSearchCV\n",
    "\n",
    "# Define Model and Hyperparameters\n",
    "sgb_reg = GradientBoostingRegressor(random_state=50)\n",
    "learning_rate = [0.01, 0.1, 1]\n",
    "n_estimators = [10,100,1000]\n",
    "max_depth = [5,10,50,100]\n",
    "\n",
    "# Define grid search\n",
    "grid = dict(learning_rate=learning_rate,n_estimators=n_estimators,max_depth=max_depth)\n",
    "grid_search = GridSearchCV(estimator=sgb_reg, param_grid=grid, n_jobs=-1, cv=5, scoring='neg_mean_squared_error',error_score=0)\n",
    "grid_result = grid_search.fit(California_prepared, California_labels)\n",
    "\n",
    "# summarize results\n",
    "print(\"Best: %f using %s\" % (grid_result.best_score_, grid_result.best_params_))\n",
    "means = grid_result.cv_results_['mean_test_score']\n",
    "stds = grid_result.cv_results_['std_test_score']\n",
    "params = grid_result.cv_results_['params']\n",
    "for mean, stdev, param in zip(means, stds, params):\n",
    "    print(\"%f (%f) with: %r\" % (np.sqrt(-mean), stdev, param))"
   ]
  },
  {
   "cell_type": "markdown",
   "id": "c782dfd2",
   "metadata": {},
   "source": [
    "### Random Forest Regressor"
   ]
  },
  {
   "cell_type": "code",
   "execution_count": 52,
   "id": "4b5bd827",
   "metadata": {},
   "outputs": [
    {
     "name": "stdout",
     "output_type": "stream",
     "text": [
      "Best: -2395764600.040275 using {'max_depth': 50, 'max_features': 'auto', 'n_estimators': 1000}\n",
      "68395.598150 (201374353.071436) with: {'max_depth': 5, 'max_features': 'auto', 'n_estimators': 10}\n",
      "68028.680091 (165266464.821208) with: {'max_depth': 5, 'max_features': 'auto', 'n_estimators': 50}\n",
      "67955.152696 (165477609.468106) with: {'max_depth': 5, 'max_features': 'auto', 'n_estimators': 100}\n",
      "67921.695732 (157558865.193081) with: {'max_depth': 5, 'max_features': 'auto', 'n_estimators': 1000}\n",
      "73879.058610 (147922268.765546) with: {'max_depth': 5, 'max_features': 'sqrt', 'n_estimators': 10}\n",
      "71050.765731 (166992732.796130) with: {'max_depth': 5, 'max_features': 'sqrt', 'n_estimators': 50}\n",
      "71144.991240 (173380812.195547) with: {'max_depth': 5, 'max_features': 'sqrt', 'n_estimators': 100}\n",
      "70862.590099 (164645898.537824) with: {'max_depth': 5, 'max_features': 'sqrt', 'n_estimators': 1000}\n",
      "73879.058610 (147922268.765546) with: {'max_depth': 5, 'max_features': 'log2', 'n_estimators': 10}\n",
      "71050.765731 (166992732.796130) with: {'max_depth': 5, 'max_features': 'log2', 'n_estimators': 50}\n",
      "71144.991240 (173380812.195547) with: {'max_depth': 5, 'max_features': 'log2', 'n_estimators': 100}\n",
      "70862.590099 (164645898.537824) with: {'max_depth': 5, 'max_features': 'log2', 'n_estimators': 1000}\n",
      "54996.874542 (156561222.884619) with: {'max_depth': 10, 'max_features': 'auto', 'n_estimators': 10}\n",
      "53687.750999 (111463217.459110) with: {'max_depth': 10, 'max_features': 'auto', 'n_estimators': 50}\n",
      "53541.986642 (116299935.841880) with: {'max_depth': 10, 'max_features': 'auto', 'n_estimators': 100}\n",
      "53335.516195 (105284577.811358) with: {'max_depth': 10, 'max_features': 'auto', 'n_estimators': 1000}\n",
      "57923.452979 (171979839.611733) with: {'max_depth': 10, 'max_features': 'sqrt', 'n_estimators': 10}\n",
      "56358.062868 (115688325.117303) with: {'max_depth': 10, 'max_features': 'sqrt', 'n_estimators': 50}\n",
      "56154.231797 (127101177.419763) with: {'max_depth': 10, 'max_features': 'sqrt', 'n_estimators': 100}\n",
      "55829.768988 (116450805.882374) with: {'max_depth': 10, 'max_features': 'sqrt', 'n_estimators': 1000}\n",
      "57923.452979 (171979839.611733) with: {'max_depth': 10, 'max_features': 'log2', 'n_estimators': 10}\n",
      "56358.062868 (115688325.117303) with: {'max_depth': 10, 'max_features': 'log2', 'n_estimators': 50}\n",
      "56154.231797 (127101177.419763) with: {'max_depth': 10, 'max_features': 'log2', 'n_estimators': 100}\n",
      "55829.768988 (116450805.882374) with: {'max_depth': 10, 'max_features': 'log2', 'n_estimators': 1000}\n",
      "51926.607921 (111664036.045305) with: {'max_depth': 50, 'max_features': 'auto', 'n_estimators': 10}\n",
      "49313.905973 (94845471.087533) with: {'max_depth': 50, 'max_features': 'auto', 'n_estimators': 50}\n",
      "49114.824435 (94896713.152651) with: {'max_depth': 50, 'max_features': 'auto', 'n_estimators': 100}\n",
      "48946.548398 (83513567.553316) with: {'max_depth': 50, 'max_features': 'auto', 'n_estimators': 1000}\n",
      "54157.763838 (166680885.221916) with: {'max_depth': 50, 'max_features': 'sqrt', 'n_estimators': 10}\n",
      "50856.303989 (130273218.544649) with: {'max_depth': 50, 'max_features': 'sqrt', 'n_estimators': 50}\n",
      "50468.922903 (119820945.513458) with: {'max_depth': 50, 'max_features': 'sqrt', 'n_estimators': 100}\n",
      "49940.229359 (107063795.710016) with: {'max_depth': 50, 'max_features': 'sqrt', 'n_estimators': 1000}\n",
      "54157.763838 (166680885.221916) with: {'max_depth': 50, 'max_features': 'log2', 'n_estimators': 10}\n",
      "50856.303989 (130273218.544649) with: {'max_depth': 50, 'max_features': 'log2', 'n_estimators': 50}\n",
      "50468.922903 (119820945.513458) with: {'max_depth': 50, 'max_features': 'log2', 'n_estimators': 100}\n",
      "49940.229359 (107063795.710016) with: {'max_depth': 50, 'max_features': 'log2', 'n_estimators': 1000}\n",
      "51926.607921 (111664036.045305) with: {'max_depth': 100, 'max_features': 'auto', 'n_estimators': 10}\n",
      "49313.905973 (94845471.087533) with: {'max_depth': 100, 'max_features': 'auto', 'n_estimators': 50}\n",
      "49114.824435 (94896713.152651) with: {'max_depth': 100, 'max_features': 'auto', 'n_estimators': 100}\n",
      "48946.548398 (83513567.553316) with: {'max_depth': 100, 'max_features': 'auto', 'n_estimators': 1000}\n",
      "54157.763838 (166680885.221916) with: {'max_depth': 100, 'max_features': 'sqrt', 'n_estimators': 10}\n",
      "50856.303989 (130273218.544649) with: {'max_depth': 100, 'max_features': 'sqrt', 'n_estimators': 50}\n",
      "50468.922903 (119820945.513458) with: {'max_depth': 100, 'max_features': 'sqrt', 'n_estimators': 100}\n",
      "49940.229359 (107063795.710016) with: {'max_depth': 100, 'max_features': 'sqrt', 'n_estimators': 1000}\n",
      "54157.763838 (166680885.221916) with: {'max_depth': 100, 'max_features': 'log2', 'n_estimators': 10}\n",
      "50856.303989 (130273218.544649) with: {'max_depth': 100, 'max_features': 'log2', 'n_estimators': 50}\n",
      "50468.922903 (119820945.513458) with: {'max_depth': 100, 'max_features': 'log2', 'n_estimators': 100}\n",
      "49940.229359 (107063795.710016) with: {'max_depth': 100, 'max_features': 'log2', 'n_estimators': 1000}\n"
     ]
    }
   ],
   "source": [
    "from sklearn.model_selection import GridSearchCV\n",
    "\n",
    "# Define Model and Hyperparameters\n",
    "forest_reg = RandomForestRegressor(n_estimators=100, random_state=50)\n",
    "n_estimators = [10,50,100,1000]\n",
    "max_depth = [5,10,50,100]\n",
    "max_features = ['auto','sqrt','log2']\n",
    "\n",
    "# Define grid search\n",
    "grid = dict(max_depth=max_depth,max_features=max_features,n_estimators=n_estimators)\n",
    "grid_search = GridSearchCV(estimator=forest_reg, param_grid=grid, n_jobs=-1, cv=5, scoring='neg_mean_squared_error',error_score=0)\n",
    "grid_result = grid_search.fit(California_prepared, California_labels)\n",
    "\n",
    "# summarize results\n",
    "print(\"Best: %f using %s\" % (grid_result.best_score_, grid_result.best_params_))\n",
    "means = grid_result.cv_results_['mean_test_score']\n",
    "stds = grid_result.cv_results_['std_test_score']\n",
    "params = grid_result.cv_results_['params']\n",
    "for mean, stdev, param in zip(means, stds, params):\n",
    "    print(\"%f (%f) with: %r\" % (np.sqrt(-mean), stdev, param))"
   ]
  },
  {
   "cell_type": "markdown",
   "id": "a027f433",
   "metadata": {},
   "source": [
    "### Best Model FIt Dataset"
   ]
  },
  {
   "cell_type": "code",
   "execution_count": 54,
   "id": "c9eaa150",
   "metadata": {},
   "outputs": [
    {
     "name": "stdout",
     "output_type": "stream",
     "text": [
      "GradientBoostingRegressor(max_depth=5, n_estimators=1000, random_state=50)\n"
     ]
    }
   ],
   "source": [
    "print(grid_result.best_estimator_)"
   ]
  },
  {
   "cell_type": "markdown",
   "id": "cd77b9c3",
   "metadata": {},
   "source": [
    "### Fit Model To Test Set"
   ]
  },
  {
   "cell_type": "code",
   "execution_count": 55,
   "id": "d67d358e",
   "metadata": {},
   "outputs": [],
   "source": [
    "# Choosing best model\n",
    "final_model = grid_result.best_estimator_\n",
    "\n",
    "X_test = strat_test_set.drop(\"median_house_value\", axis=1)\n",
    "y_test = strat_test_set[\"median_house_value\"].copy()\n",
    "\n",
    "# Pipeline Transformation for Test set\n",
    "X_test_prepared = full_pipeline.fit_transform(X_test)\n",
    "\n",
    "# Fitting to Test Set\n",
    "final_predictions = final_model.predict(X_test_prepared)"
   ]
  },
  {
   "cell_type": "markdown",
   "id": "fa125d43",
   "metadata": {},
   "source": [
    "### Model Evaluation On Test Set"
   ]
  },
  {
   "cell_type": "code",
   "execution_count": 58,
   "id": "940039ea",
   "metadata": {},
   "outputs": [
    {
     "name": "stdout",
     "output_type": "stream",
     "text": [
      "Final Model RMSE : 47682.741973582626\n",
      "Final Model MAE : 31395.550834475882\n"
     ]
    }
   ],
   "source": [
    "final_mse = mean_squared_error(y_test, final_predictions)\n",
    "final_mae = mean_absolute_error(y_test, final_predictions)\n",
    "final_rmse = np.sqrt(final_mse)\n",
    "print('Final Model RMSE :',final_rmse)\n",
    "print('Final Model MAE :',final_mae)"
   ]
  },
  {
   "cell_type": "code",
   "execution_count": null,
   "id": "59797651",
   "metadata": {},
   "outputs": [],
   "source": []
  }
 ],
 "metadata": {
  "kernelspec": {
   "display_name": "Python 3 (ipykernel)",
   "language": "python",
   "name": "python3"
  },
  "language_info": {
   "codemirror_mode": {
    "name": "ipython",
    "version": 3
   },
   "file_extension": ".py",
   "mimetype": "text/x-python",
   "name": "python",
   "nbconvert_exporter": "python",
   "pygments_lexer": "ipython3",
   "version": "3.9.7"
  }
 },
 "nbformat": 4,
 "nbformat_minor": 5
}
